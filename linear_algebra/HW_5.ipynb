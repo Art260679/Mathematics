{
 "cells": [
  {
   "cell_type": "code",
   "execution_count": 185,
   "metadata": {
    "scrolled": true
   },
   "outputs": [],
   "source": [
    "import numpy as np\n",
    "from IPython.display import display\n",
    "\n",
    "CSS = \"\"\"\n",
    ".output {\n",
    "    flex-direction: column;\n",
    "}\n",
    "\"\"\""
   ]
  },
  {
   "cell_type": "code",
   "execution_count": 186,
   "metadata": {},
   "outputs": [],
   "source": [
    "accordion.set_title(0, 'Раздел 1')"
   ]
  },
  {
   "cell_type": "markdown",
   "metadata": {},
   "source": [
    "1. Найти с помощью NumPy SVD для матрицы\n",
    "\n",
    "$$\\begin{pmatrix}\n",
    "1 & 2 & 0\\\\ \n",
    "0 & 0 & 5\\\\ \n",
    "3 & -4 & 2\\\\ \n",
    "1 & 6 & 5\\\\ \n",
    "0 & 1 & 0\n",
    "\\end{pmatrix}.$$"
   ]
  },
  {
   "cell_type": "markdown",
   "metadata": {},
   "source": [
    "##### Решение"
   ]
  },
  {
   "cell_type": "code",
   "execution_count": 187,
   "metadata": {},
   "outputs": [],
   "source": [
    "A = np.array([[1, 2, 0],\n",
    "              [0, 0, 5],\n",
    "              [3, -4, 2],\n",
    "              [1, 6, 5],\n",
    "              [0, 1, 0]])"
   ]
  },
  {
   "cell_type": "code",
   "execution_count": 188,
   "metadata": {},
   "outputs": [],
   "source": [
    "U, s, W = np.linalg.svd(A)"
   ]
  },
  {
   "cell_type": "code",
   "execution_count": 189,
   "metadata": {},
   "outputs": [
    {
     "data": {
      "text/plain": [
       "array([[ 0.171,  0.157, -0.531, -0.799, -0.162],\n",
       "       [ 0.393, -0.529,  0.613, -0.434,  0.031],\n",
       "       [-0.144, -0.824, -0.524,  0.14 ,  0.074],\n",
       "       [ 0.888,  0.061, -0.247,  0.378, -0.06 ],\n",
       "       [ 0.081,  0.108, -0.082, -0.105,  0.982]])"
      ]
     },
     "execution_count": 189,
     "metadata": {},
     "output_type": "execute_result"
    }
   ],
   "source": [
    "U"
   ]
  },
  {
   "cell_type": "code",
   "execution_count": 190,
   "metadata": {},
   "outputs": [
    {
     "data": {
      "text/plain": [
       "array([[ 0.071, -0.367, -0.927],\n",
       "       [ 0.717,  0.665, -0.208],\n",
       "       [ 0.693, -0.65 ,  0.311]])"
      ]
     },
     "execution_count": 190,
     "metadata": {},
     "output_type": "execute_result"
    }
   ],
   "source": [
    "# Транспонируем матрицу W\n",
    "V = W.T\n",
    "V"
   ]
  },
  {
   "cell_type": "code",
   "execution_count": 191,
   "metadata": {},
   "outputs": [
    {
     "data": {
      "text/plain": [
       "array([[8.825, 0.   , 0.   ],\n",
       "       [0.   , 6.141, 0.   ],\n",
       "       [0.   , 0.   , 2.533],\n",
       "       [0.   , 0.   , 0.   ],\n",
       "       [0.   , 0.   , 0.   ]])"
      ]
     },
     "execution_count": 191,
     "metadata": {},
     "output_type": "execute_result"
    }
   ],
   "source": [
    "# s - список диагональных элементов, его нужно привести к виду диагональной матрицы для наглядности\n",
    "D = np.zeros_like(A, dtype=float)\n",
    "D[np.diag_indices(min(A.shape))] = s\n",
    "D"
   ]
  },
  {
   "cell_type": "code",
   "execution_count": 192,
   "metadata": {},
   "outputs": [
    {
     "data": {
      "text/plain": [
       "array([[ 0.171,  0.157, -0.531, -0.799, -0.162],\n",
       "       [ 0.393, -0.529,  0.613, -0.434,  0.031],\n",
       "       [-0.144, -0.824, -0.524,  0.14 ,  0.074],\n",
       "       [ 0.888,  0.061, -0.247,  0.378, -0.06 ],\n",
       "       [ 0.081,  0.108, -0.082, -0.105,  0.982]])"
      ]
     },
     "metadata": {},
     "output_type": "display_data"
    },
    {
     "data": {
      "text/plain": [
       "array([[8.825, 0.   , 0.   ],\n",
       "       [0.   , 6.141, 0.   ],\n",
       "       [0.   , 0.   , 2.533],\n",
       "       [0.   , 0.   , 0.   ],\n",
       "       [0.   , 0.   , 0.   ]])"
      ]
     },
     "metadata": {},
     "output_type": "display_data"
    },
    {
     "data": {
      "text/plain": [
       "array([[ 0.071, -0.367, -0.927],\n",
       "       [ 0.717,  0.665, -0.208],\n",
       "       [ 0.693, -0.65 ,  0.311]])"
      ]
     },
     "metadata": {},
     "output_type": "display_data"
    }
   ],
   "source": [
    "display(U,D,V)"
   ]
  },
  {
   "cell_type": "code",
   "execution_count": 193,
   "metadata": {},
   "outputs": [
    {
     "name": "stdout",
     "output_type": "stream",
     "text": [
      "[[ 1.  2.  0.]\n",
      " [ 0. -0.  5.]\n",
      " [ 3. -4.  2.]\n",
      " [ 1.  6.  5.]\n",
      " [-0.  1.  0.]]\n"
     ]
    }
   ],
   "source": [
    "# Проведем проверку\n",
    "print(np.dot(np.dot(U, D), V.T))"
   ]
  },
  {
   "cell_type": "markdown",
   "metadata": {},
   "source": [
    "2. Для матрицы из предыдущего задания найти:\n",
    "\n",
    "    а) евклидову норму;\n",
    "    \n",
    "    б) норму Фробениуса."
   ]
  },
  {
   "cell_type": "markdown",
   "metadata": {},
   "source": [
    "##### Решение"
   ]
  },
  {
   "cell_type": "code",
   "execution_count": 194,
   "metadata": {},
   "outputs": [
    {
     "name": "stdout",
     "output_type": "stream",
     "text": [
      "Евклидова норма матрицы А равна максимальному сингулярному числу 8.824868854820442\n"
     ]
    }
   ],
   "source": [
    "max_S = 0\n",
    "for i in range(len(S)):\n",
    "    if S[i] > max_S:\n",
    "        max_S = S[i]\n",
    "print(f'Евклидова норма матрицы А равна максимальному сингулярному числу {max_S}')"
   ]
  },
  {
   "cell_type": "code",
   "execution_count": 195,
   "metadata": {},
   "outputs": [
    {
     "name": "stdout",
     "output_type": "stream",
     "text": [
      "Норма Фробениуса матрицы А равна корню из суммы квадратов сингулярных чисел 11.045361017187261\n"
     ]
    }
   ],
   "source": [
    "F = 0\n",
    "for i in range(len(S)):\n",
    "    F += S[i]*S[i]\n",
    "F = np.sqrt(F)\n",
    "print(f'Норма Фробениуса матрицы А равна корню из суммы квадратов сингулярных чисел {F}')"
   ]
  }
 ],
 "metadata": {
  "kernelspec": {
   "display_name": "Python 3",
   "language": "python",
   "name": "python3"
  },
  "language_info": {
   "codemirror_mode": {
    "name": "ipython",
    "version": 3
   },
   "file_extension": ".py",
   "mimetype": "text/x-python",
   "name": "python",
   "nbconvert_exporter": "python",
   "pygments_lexer": "ipython3",
   "version": "3.7.6"
  }
 },
 "nbformat": 4,
 "nbformat_minor": 2
}
