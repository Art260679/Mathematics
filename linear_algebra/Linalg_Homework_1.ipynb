{
 "cells": [
  {
   "cell_type": "markdown",
   "metadata": {},
   "source": [
    "# Линейная алгебра\n",
    "## Домашнее задание к первому уроку \"Линейное пространство. Основные понятия. Часть 1\"\n"
   ]
  },
  {
   "cell_type": "code",
   "execution_count": 4,
   "metadata": {},
   "outputs": [],
   "source": [
    "from scipy.linalg import solve\n",
    "import numpy as np\n",
    "from numpy.linalg import norm"
   ]
  },
  {
   "cell_type": "markdown",
   "metadata": {},
   "source": [
    "### Часть 1"
   ]
  },
  {
   "cell_type": "markdown",
   "metadata": {},
   "source": [
    "__1.__ Исследовать на линейную зависимость:\n",
    "$$f_{1}(x)=e^{x}, f_{2}(x)=1, f_{3}(x)=x+1, f_{4}(x)=x-e^{x}.$$"
   ]
  },
  {
   "cell_type": "markdown",
   "metadata": {},
   "source": [
    "#### Решение:\n",
    "\n",
    "Можно заметить что \n",
    "$$f_1(x) = -f_4(x) - f_3(x) + f_2(x)$$\n",
    "А раз $f_1$ можно выразить через $f_2$, $f_3$ и $f_4$, значит они линейно зависимы"
   ]
  },
  {
   "cell_type": "markdown",
   "metadata": {},
   "source": [
    "__2.__ Исследовать на линейную зависимость:\n",
    "$$f_{1}(x)=2, f_{2}(x)=x, f_{3}(x)=x^{2}, f_{4}(x)=(x+1)^{2}.$$\n",
    "#### Решение:\n",
    "$$f_4(x) = (x+1)^2 = x^2 + 2x + 1 = f_{3}(x) + 2f_{2}(x) + \\frac{f_{1}(x)}{2}$$\n",
    "Значит $f_1$, $f_2$, $f_3$ и $f_4$ линейно зависимы"
   ]
  },
  {
   "cell_type": "markdown",
   "metadata": {},
   "source": [
    "__3.__ Найти координаты вектора $x = (2, 3, 5)\\in \\mathbb{R}^{3}$ в базисе $b_{1}=(0, 0, 10)$, $b_{2}=(2, 0, 0)$, $b_{3}=(0, 1, 0)$."
   ]
  },
  {
   "cell_type": "markdown",
   "metadata": {},
   "source": [
    "#### Решение: \n",
    "решение очевидно, но все же запишем в матричном виде и решим используя метод `solve` пакета `scipy.linalg`"
   ]
  },
  {
   "cell_type": "code",
   "execution_count": 10,
   "metadata": {},
   "outputs": [
    {
     "data": {
      "text/plain": [
       "array([0.5, 1. , 3. ])"
      ]
     },
     "execution_count": 10,
     "metadata": {},
     "output_type": "execute_result"
    }
   ],
   "source": [
    "B = np.array([\n",
    "    [0, 0, 10],\n",
    "    [2, 0, 0],\n",
    "    [0, 1, 0]]).T\n",
    "\n",
    "X = np.array([2,3,5])\n",
    "\n",
    "X_new = solve(B, X)\n",
    "\n",
    "X_new"
   ]
  },
  {
   "cell_type": "markdown",
   "metadata": {},
   "source": [
    "__4.__ Найти координаты вектора $3x^{2}-2x+2\\in\\mathbb{R}^{3}[x]$:\n",
    "\n",
    "   а) в базисе $1$, $x$, $x^{2}$;\n",
    "\n",
    "   б) в базисе $x^{2}$, $x-1$, $1$."
   ]
  },
  {
   "cell_type": "markdown",
   "metadata": {},
   "source": [
    "#### Решение:\n",
    "Также, запишем базисы в матричном виде и решим"
   ]
  },
  {
   "cell_type": "code",
   "execution_count": 13,
   "metadata": {},
   "outputs": [
    {
     "name": "stdout",
     "output_type": "stream",
     "text": [
      "[ 2. -2.  3.], \n",
      "[3. 0. 2.]\n"
     ]
    }
   ],
   "source": [
    "X = np.array([3, -2, 2])\n",
    "B_a = np.array([\n",
    "    [0,0,1],\n",
    "    [0,1,0],\n",
    "    [1,0,0]\n",
    "]).T\n",
    "\n",
    "B_b = np.array([\n",
    "    [1,0,0],\n",
    "    [0,1,-1],\n",
    "    [0,0,1]\n",
    "])\n",
    "\n",
    "\n",
    "print(f'{solve(B_a, X)}, \\n{solve(B_b, X)}')"
   ]
  },
  {
   "cell_type": "markdown",
   "metadata": {},
   "source": [
    "__5.__ Установить, является ли линейным подпространством:\n",
    "\n",
    "а) совокупность всех векторов трехмерного пространства, у которых по крайней мере одна из первых двух координат равна нулю;\n",
    "    \n",
    "б) все векторы, являющиеся линейными комбинациями данных векторов $\\{u_{1}, u_{2}, ..., u_{n}\\}$.\n",
    "\n",
    "\n",
    "Решение:\n",
    "\n",
    "а) Т.е. требуется исследовать систему векторов такую, что координатами любых $a$ и $b$ из этой системы могут быть следующие варианты: $$1. a = (0, \\alpha, \\beta), b = (0, \\gamma, \\delta)$$ $$2. a = (0, 0, \\beta), b = (0, \\gamma, \\delta)$$ $$3. a = (0, \\alpha, \\beta), b = (0, 0, \\delta)$$ $$4. a = (0, 0, \\beta), b = (0, 0, \\delta)$$ $$5. a = (\\alpha, 0, \\beta), b = (0, \\gamma, \\delta)$$ $$6. a = (0, \\alpha, \\beta), b = (\\gamma, 0, \\delta)$$\n",
    "\n",
    "Проверим эти варианты на операции сложения и умножения на скаляр: $$ 1. a+b = (0, \\alpha+\\gamma, \\beta+\\delta), k\\cdot a =  (0, k\\alpha, k\\beta),$$ аналогично var. 2, 3, 4, но в var.5, 6: $$ 5. a+b = (\\alpha, \\gamma, \\beta+\\delta),  k\\cdot a =  (k\\alpha, 0, k\\beta),$$ т.е. результат сложения векторов не всегда будет принадлежать этому подпространству => совокупность всех векторов трехмерного пространства, у которых по крайней мере одна из первых двух координат равна нулю не является линейным подпространством.\n",
    "\n",
    "б) по отношению ко всем векторам, являющимся линейными комбинациями данных векторов $\\{u_{1}, u_{2}, ..., u_{n}\\}$ будут существовать варианты, аналогичные var.5, 6 из пп.а), т.е. они также не являются линейным подпространством."
   ]
  },
  {
   "cell_type": "markdown",
   "metadata": {},
   "source": [
    "### Часть 2"
   ]
  },
  {
   "cell_type": "markdown",
   "metadata": {},
   "source": [
    "__1.__ Найти скалярное произведение векторов $x, y \\in \\mathbb{R}$:<br>\n",
    "а) $x=(0,-3, 6),~y=(-4, 7, 9);$<br>\n",
    "б) $x=(7, -4, 0, 1),~y=(-3, 1, 11, 2).$"
   ]
  },
  {
   "cell_type": "markdown",
   "metadata": {},
   "source": [
    "#### Решение:"
   ]
  },
  {
   "cell_type": "markdown",
   "metadata": {},
   "source": [
    "a)"
   ]
  },
  {
   "cell_type": "code",
   "execution_count": 14,
   "metadata": {},
   "outputs": [
    {
     "data": {
      "text/plain": [
       "33"
      ]
     },
     "execution_count": 14,
     "metadata": {},
     "output_type": "execute_result"
    }
   ],
   "source": [
    "x = np.array([0, -3, 6])\n",
    "y = np.array([-4, 7, 9])\n",
    "\n",
    "np.dot(x,y)"
   ]
  },
  {
   "cell_type": "markdown",
   "metadata": {},
   "source": [
    "б)"
   ]
  },
  {
   "cell_type": "code",
   "execution_count": 15,
   "metadata": {},
   "outputs": [
    {
     "data": {
      "text/plain": [
       "-23"
      ]
     },
     "execution_count": 15,
     "metadata": {},
     "output_type": "execute_result"
    }
   ],
   "source": [
    "x = np.array([7, -4, 0, 1])\n",
    "y = np.array([-3, 1, 11, 2])\n",
    "\n",
    "np.dot(x,y)"
   ]
  },
  {
   "cell_type": "markdown",
   "metadata": {},
   "source": [
    "__2.__ Найти нормы векторов $(4, 2, 4)$ и $(12, 3, 4)$ и угол между ними.\n",
    "#### Решение:\n"
   ]
  },
  {
   "cell_type": "code",
   "execution_count": 17,
   "metadata": {},
   "outputs": [
    {
     "name": "stdout",
     "output_type": "stream",
     "text": [
      "нормы векторов: \n",
      "a: 6.0 \n",
      "b: 13.0\n",
      "Угол между векторами: 0.4568740035326613\n"
     ]
    }
   ],
   "source": [
    "a = np.array([4, 2, 4])\n",
    "b = np.array([12, 3, 4])\n",
    "\n",
    "a_norm = np.linalg.norm(a)\n",
    "b_norm = np.linalg.norm(b)\n",
    "\n",
    "cos_phi = np.dot(a, b) / a_norm / b_norm\n",
    "\n",
    "print(f'нормы векторов: \\na: {a_norm} \\nb: {b_norm}')\n",
    "print(f'Угол между векторами: {np.arccos(cos_phi)}')"
   ]
  },
  {
   "cell_type": "markdown",
   "metadata": {},
   "source": [
    "__3.__ Будет ли линейное пространство евклидовым, если за скалярное произведение принять:<br>\n",
    "а) произведение длин векторов;\n",
    "\n",
    "б) утроенное обычное скалярное произведение векторов?\n",
    " \n",
    " \n",
    "   \n",
    "  Решение:\n",
    "                                  \n",
    "  Нет, потому что скалярное произведение векторов равно произведению длин векторов на косинус угла между ними, а косинус принимает значения от -1 до 1. Следовательно, скалярное произведение векторов меньше или равно произведению их длин.\n",
    "\n",
    "  \n",
    "Скалярное произведение евклидова пространства должно подчиняться четырем аксиомам:\n",
    "1) $(x,y)=(y,x);$\n",
    "2) $(\\lambda x, y)=\\lambda(x, y);$\n",
    "3) $(x_{1}+x_{2},y)=(x_{1},y)+(x_{2},y);$\n",
    "4) $(x, x)\\geq0$, причем $(x,x)=0\\Leftrightarrow x=0.$\n",
    "Заметим, что из 3 аксиомы следует:\n",
    "$\\left|x_{1}\\right|cos\\alpha_{1}+\\left|x_{2}\\right|cos\\alpha_{2}=\\left|x_{1}+x_{2}\\right|cos\\alpha$\n",
    "\n",
    "а) Проверим, выполняются ли эти аксиомы, если $(x, y) = \\left|x\\right|\\cdot\\left|y\\right| $\n",
    "\n",
    "1) $\\left|x\\right|\\cdot\\left|y\\right| = \\left|y\\right|\\cdot\\left|x\\right|$ - выполняется\n",
    "2) $(\\lambda \\cdot \\left|x\\right|)\\cdot\\left|y\\right|= \\lambda \\cdot (\\left|x\\right|\\cdot\\left|y\\right|)$ - выполняется\n",
    "3) $\\left|x_{1}\\right|\\cdot\\left|y\\right| + \\left|x_{2}\\right|\\cdot\\left|y\\right|= (\\left|x_{1}\\right|+\\left|x_{2}\\right|)\\cdot\\left|y\\right|$,\n",
    "но $\\left|x_{1}\\right| + \\left|x_{2}\\right| \\geq \\left|x_{1}+x_{2}\\right|$, так как $(\\sqrt{\\sum_{i}|x_{1i}|^{2}}+\\sqrt{\\sum_{i}|x_{2i}|^{2}}) \\geq \\sqrt{\\sum_{i}|x_{1i}+x_{2i}|^{2}}|$ =>\n",
    "$(x_{1}+x_{2},y)\\leq(x_{1},y)+(x_{2},y)$, то есть 3 аксиома не выполняется\n",
    "4) $(x, x)\\geq0$, причем $(x,x)=0\\Leftrightarrow x=0$ - выполняется\n",
    "Так как 3 аксиома не выполняется => если за скалярное произведение принять произведение длин векторов, то линейное пространство не будет евклидовым.\n",
    "\n",
    "б) Проверим, выполняются ли эти аксиомы, если $(x, y) = 3 \\cdot \\left|x\\right|\\cdot\\left|y\\right|cos\\alpha.$\n",
    "\n",
    "1) $(x,y)=(y,x)$ - выполняется\n",
    "2) $(\\lambda x, y)=\\lambda(x, y)$ - выполняется\n",
    "3) $(x_{1},y)+(x_{2},y)=3 \\cdot \\left|x_{1}\\right|\\cdot\\left|y\\right|cos\\alpha_{1} +3 \\cdot \\left|x_{2}\\right|\\cdot\\left|y\\right|cos\\alpha_{2}=3(\\left|x_{1}\\right|cos\\alpha_{1}+\\left|x_{2}\\right|cos\\alpha_{2})\\left|y\\right|= 3\\cdot(\\left|x_{1}+x_{2}\\right|cos\\alpha)\\left|y\\right|= (x_{1}+x_{2},y) $ - выполняется\n",
    "4) $(x, x)\\geq0$, причем $(x,x)=0\\Leftrightarrow x=0$ - выполняется\n",
    "Аксиомы выполняются => если за скалярное произведение принять утроенное обычное скалярное произведение векторов, то линейное пространство будет евклидовым."
   ]
  },
  {
   "cell_type": "markdown",
   "metadata": {},
   "source": [
    "__4.__ Какие из нижеперечисленных векторов образуют ортонормированный базис в линейном пространстве $\\mathbb{R}^{3}$:<br>\n",
    "а) $(1,0,0),(0,0,1);$ <br>"
   ]
  },
  {
   "cell_type": "markdown",
   "metadata": {},
   "source": [
    "б) $(1/\\sqrt{2},-1/\\sqrt{2},0),(1/\\sqrt{2},1/\\sqrt{2},0), (0,0,1);$<br>"
   ]
  },
  {
   "cell_type": "markdown",
   "metadata": {},
   "source": [
    "Решение:\n",
    "\n",
    "а) $(1,0,0),(0,0,1)$ в 3-мерном линейном пространстве $\\mathbb{R}^{3}$ базисом не являются, т.к. базис должен содержать 3 вектора.\n",
    "\n",
    "б) $(1/\\sqrt{2},-1/\\sqrt{2},0),(1/\\sqrt{2},1/\\sqrt{2},0), (0,0,1)$ в 3-мерном линейном пространстве $\\mathbb{R}^{3}$ являются ортонормированным базисом, т.к.:"
   ]
  },
  {
   "cell_type": "code",
   "execution_count": 6,
   "metadata": {},
   "outputs": [
    {
     "data": {
      "text/plain": [
       "(0.9999999999999999, 0.9999999999999999, 1.0)"
      ]
     },
     "execution_count": 6,
     "metadata": {},
     "output_type": "execute_result"
    }
   ],
   "source": [
    "e_1 = np.array([1/np.sqrt(2), -1/np.sqrt(2), 0])  \n",
    "e_2 = np.array([1/np.sqrt(2), 1/np.sqrt(2), 0])\n",
    "e_3 = np.array([0, 0, 1])\n",
    "norm(e_1), norm(e_2), norm(e_3)"
   ]
  },
  {
   "cell_type": "code",
   "execution_count": 7,
   "metadata": {},
   "outputs": [
    {
     "data": {
      "text/plain": [
       "(0.0, 0.0, 0.0)"
      ]
     },
     "execution_count": 7,
     "metadata": {},
     "output_type": "execute_result"
    }
   ],
   "source": [
    "e_1.dot(e_2), e_1.dot(e_3), e_2.dot(e_3)\n"
   ]
  },
  {
   "cell_type": "markdown",
   "metadata": {},
   "source": [
    "в) $(1/2, -1/2, 0), (0, 1/2, 1/2), (0,0,1)$ в 3-мерном линейном пространстве $\\mathbb{R}^{3}$ не являются ортонормированным базисом, т.к.:"
   ]
  },
  {
   "cell_type": "code",
   "execution_count": 8,
   "metadata": {},
   "outputs": [
    {
     "data": {
      "text/plain": [
       "(0.7071067811865476, 0.7071067811865476, 1.0)"
      ]
     },
     "execution_count": 8,
     "metadata": {},
     "output_type": "execute_result"
    }
   ],
   "source": [
    "e_1 = np.array([1/2, -1/2, 0])  \n",
    "e_2 = np.array([0, 1/2, 1/2])\n",
    "e_3 = np.array([0, 0, 1])\n",
    "norm(e_1), norm(e_2), norm(e_3)"
   ]
  },
  {
   "cell_type": "code",
   "execution_count": 9,
   "metadata": {},
   "outputs": [
    {
     "data": {
      "text/plain": [
       "(-0.25, 0.0, 0.5)"
      ]
     },
     "execution_count": 9,
     "metadata": {},
     "output_type": "execute_result"
    }
   ],
   "source": [
    "e_1.dot(e_2), e_1.dot(e_3), e_2.dot(e_3)"
   ]
  },
  {
   "cell_type": "markdown",
   "metadata": {},
   "source": [
    "г) $(1,0,0),(0,1,0),(0,0,1)$ в 3-мерном линейном пространстве $\\mathbb{R}^{3}$ являются ортонормированным базисом, т.к.:"
   ]
  },
  {
   "cell_type": "code",
   "execution_count": 10,
   "metadata": {},
   "outputs": [
    {
     "data": {
      "text/plain": [
       "(1.0, 1.0, 1.0)"
      ]
     },
     "execution_count": 10,
     "metadata": {},
     "output_type": "execute_result"
    }
   ],
   "source": [
    "e_1 = np.array([1, 0, 0])  \n",
    "e_2 = np.array([0, 1, 0])\n",
    "e_3 = np.array([0, 0, 1])\n",
    "norm(e_1), norm(e_2), norm(e_3)"
   ]
  },
  {
   "cell_type": "code",
   "execution_count": 11,
   "metadata": {},
   "outputs": [
    {
     "data": {
      "text/plain": [
       "(0, 0, 0)"
      ]
     },
     "execution_count": 11,
     "metadata": {},
     "output_type": "execute_result"
    }
   ],
   "source": [
    "e_1.dot(e_2), e_1.dot(e_3), e_2.dot(e_3)"
   ]
  }
 ],
 "metadata": {
  "kernelspec": {
   "display_name": "Python 3",
   "language": "python",
   "name": "python3"
  },
  "language_info": {
   "codemirror_mode": {
    "name": "ipython",
    "version": 3
   },
   "file_extension": ".py",
   "mimetype": "text/x-python",
   "name": "python",
   "nbconvert_exporter": "python",
   "pygments_lexer": "ipython3",
   "version": "3.7.6"
  }
 },
 "nbformat": 4,
 "nbformat_minor": 2
}
