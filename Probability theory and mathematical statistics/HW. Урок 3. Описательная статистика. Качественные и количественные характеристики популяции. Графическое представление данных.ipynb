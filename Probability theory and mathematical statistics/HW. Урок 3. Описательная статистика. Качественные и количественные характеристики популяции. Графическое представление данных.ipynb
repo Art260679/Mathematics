{
 "cells": [
  {
   "cell_type": "markdown",
   "metadata": {},
   "source": [
    "### Задача 1\n",
    "\n",
    "    Даны значения зарплат из выборки выпускников:\n",
    "\n",
    "    100, 80, 75, 77, 89, 33, 45, 25, 65, 17, 30, 230, 24, 57, 55, 70, 75, 65, 84, 90, 150\n",
    "\n",
    "    Используя только встроенные питоновские функции и структуры данных (т.е. без библиотек numpy, pandas и др.) посчитать среднее арифметическое, смещённую и несмещённую оценки дисперсии, среднее квадратичное отклонение для данной выборки."
   ]
  },
  {
   "cell_type": "code",
   "execution_count": 67,
   "metadata": {},
   "outputs": [],
   "source": [
    "import numpy as np\n",
    "import pandas as pd\n",
    "import seaborn as sns"
   ]
  },
  {
   "cell_type": "markdown",
   "metadata": {},
   "source": [
    "#### Cреднее арифметическое:\n",
    "\n",
    "$$\\overline{x} = \\frac{1}{n} \\sum\\limits_{i=1}^{n} x_i$$"
   ]
  },
  {
   "cell_type": "code",
   "execution_count": 54,
   "metadata": {},
   "outputs": [
    {
     "name": "stdout",
     "output_type": "stream",
     "text": [
      "Cреднее арифметическое: 73.14285714285714\n"
     ]
    }
   ],
   "source": [
    "salary = [100, 80, 75, 77, 89, 33, 45, 25, 65, 17, 30, 230, 24, 57, 55, 70, 75, 65, 84, 90, 150]\n",
    "\n",
    "summ = 0\n",
    "for i in salary:\n",
    "    summ = summ + i\n",
    "    \n",
    "mean_height  = summ/len(salary)\n",
    "\n",
    "print(\"Cреднее арифметическое:\", mean_height )"
   ]
  },
  {
   "cell_type": "markdown",
   "metadata": {},
   "source": [
    "#### Среднее квадратичное отклонение:\n",
    "\n",
    "$$\\sigma = \\sqrt{\\frac{\\sum\\limits_{i=1}^{n} (x_i - \\overline{x})^2}{n}}$$"
   ]
  },
  {
   "cell_type": "code",
   "execution_count": 55,
   "metadata": {},
   "outputs": [
    {
     "name": "stdout",
     "output_type": "stream",
     "text": [
      "Среднее квадратичное отклонение: 46.20686994302874\n"
     ]
    }
   ],
   "source": [
    "\n",
    "summ = 0\n",
    "for i in salary:\n",
    "    summ = summ + ((i - mean_height)**2)\n",
    "std = (summ/len(salary))**0.5\n",
    "print(\"Среднее квадратичное отклонение:\", std)"
   ]
  },
  {
   "cell_type": "markdown",
   "metadata": {},
   "source": [
    "#### Смещенная и несмещенная оценки дисперсии:\n",
    "\n",
    "$$\\sigma^2 = \\frac{\\sum\\limits_{i=1}^{n} (x_i - \\overline{x})^2}{n}$$\n",
    "\n",
    "$$\\sigma^2_{несмещ.} = \\frac{\\sum\\limits_{i=1}^{n} (x_i - \\overline{x})^2}{n - 1}$$"
   ]
  },
  {
   "cell_type": "code",
   "execution_count": 56,
   "metadata": {},
   "outputs": [
    {
     "name": "stdout",
     "output_type": "stream",
     "text": [
      "Смещенная дисперсия: 2135.074829931973\n",
      "Несмещенная дисперсия: 2241.8285714285716\n"
     ]
    }
   ],
   "source": [
    "summ = 0\n",
    "for i in salary:\n",
    "    summ = summ + ((i - mean_height)**2)\n",
    "height_variance = summ/len(salary)\n",
    "height_variance2 = summ/(len(salary)-1)\n",
    "print(\"Смещенная дисперсия:\", height_variance)\n",
    "print(\"Несмещенная дисперсия:\", height_variance2)"
   ]
  },
  {
   "cell_type": "code",
   "execution_count": 70,
   "metadata": {},
   "outputs": [
    {
     "name": "stdout",
     "output_type": "stream",
     "text": [
      "Математическое ожидание: 73.14285714285714\n",
      "Среднее квадратичное отклонение: 46.206869943028735\n",
      "Смещенная дисперсия: 2135.0748299319725\n",
      "Несмещенная дисперсия: 2241.828571428571\n"
     ]
    }
   ],
   "source": [
    "# проверим вычисления\n",
    "a = np.array(salary)\n",
    "print(\"Математическое ожидание:\", a.mean())\n",
    "print(\"Среднее квадратичное отклонение:\", a.std(ddof=0))\n",
    "print(\"Смещенная дисперсия:\", a.var())\n",
    "print(\"Несмещенная дисперсия:\", a.var(ddof=1))"
   ]
  },
  {
   "cell_type": "markdown",
   "metadata": {},
   "source": [
    "### Задача 2\n",
    "\n",
    "    Для выборки из задачи 1 найти (также без использования библиотек):\n",
    "1. медиану, первый и третий квартили, интерквартильное расстояние,\n",
    "2. выборсы в выборке (используя для этого метод как при построении \"усов\" из boxplot).\n",
    "\n",
    "    Возможные неоднозначности в вычислении квантилей можно разрешать любым способом."
   ]
  },
  {
   "cell_type": "code",
   "execution_count": 58,
   "metadata": {},
   "outputs": [
    {
     "name": "stdout",
     "output_type": "stream",
     "text": [
      "21\n",
      "[17, 24, 25, 30, 33, 45, 55, 57, 65, 65, 70, 75, 75, 77, 80, 84, 89, 90, 100, 150, 230]\n"
     ]
    }
   ],
   "source": [
    "salary_sorted = sorted(salary)\n",
    "length = len(salary_sorted)\n",
    "b = pd.Series(salary)\n",
    "\n",
    "print(length)\n",
    "print(salary_sorted)"
   ]
  },
  {
   "cell_type": "code",
   "execution_count": 59,
   "metadata": {},
   "outputs": [
    {
     "name": "stdout",
     "output_type": "stream",
     "text": [
      "Медиана: 70\n"
     ]
    }
   ],
   "source": [
    "#ввиду того, что получили нечетную длину выборки, медиана будет посередине отсортированного массива\n",
    "\n",
    "med = salary_sorted[length//2]\n",
    "print(\"Медиана:\",med)"
   ]
  },
  {
   "cell_type": "code",
   "execution_count": 60,
   "metadata": {},
   "outputs": [
    {
     "name": "stdout",
     "output_type": "stream",
     "text": [
      "Первый квартиль: Q1 = 45\n"
     ]
    }
   ],
   "source": [
    "#первый квартиль\n",
    "Q1 = salary_sorted[int(length // 4)]\n",
    "print(\"Первый квартиль: Q1 =\", Q1)"
   ]
  },
  {
   "cell_type": "code",
   "execution_count": 61,
   "metadata": {},
   "outputs": [
    {
     "name": "stdout",
     "output_type": "stream",
     "text": [
      "третий квартиль: Q3 = 84\n"
     ]
    }
   ],
   "source": [
    "#третий квартиль\n",
    "Q3 = salary_sorted[int(length *3 // 4)]\n",
    "print(\"третий квартиль: Q3 =\", Q3)"
   ]
  },
  {
   "cell_type": "code",
   "execution_count": 62,
   "metadata": {},
   "outputs": [
    {
     "name": "stdout",
     "output_type": "stream",
     "text": [
      "Интерквартильное расстояние:\n",
      "[45, 84]\n"
     ]
    }
   ],
   "source": [
    "print(\"Интерквартильное расстояние:\")\n",
    "print([Q1,Q3])"
   ]
  },
  {
   "cell_type": "code",
   "execution_count": 63,
   "metadata": {},
   "outputs": [
    {
     "data": {
      "text/plain": [
       "count     21.000000\n",
       "mean      73.142857\n",
       "std       47.347952\n",
       "min       17.000000\n",
       "25%       45.000000\n",
       "50%       70.000000\n",
       "75%       84.000000\n",
       "max      230.000000\n",
       "dtype: float64"
      ]
     },
     "execution_count": 63,
     "metadata": {},
     "output_type": "execute_result"
    }
   ],
   "source": [
    "#проверим вычисления через встроенные библиотеки\n",
    "\n",
    "b.describe()"
   ]
  },
  {
   "cell_type": "markdown",
   "metadata": {},
   "source": [
    "#### 2. выборсы в выборке"
   ]
  },
  {
   "cell_type": "code",
   "execution_count": 69,
   "metadata": {},
   "outputs": [
    {
     "name": "stdout",
     "output_type": "stream",
     "text": [
      "Выброс: сумма з/п 230\n",
      "Выброс: сумма з/п 150\n"
     ]
    }
   ],
   "source": [
    "# Q1_Q3 - интерквартильное расстояние\n",
    "\n",
    "Q1_Q3 = Q3 - Q1\n",
    "boxplot_range_low = Q1 - 1.5 * Q1_Q3 \n",
    "boxplot_range_high = Q3 + 1.5 * Q1_Q3\n",
    "\n",
    "for i in range(len(salary)):\n",
    "    if salary[i] < boxplot_range_low or salary[i] > boxplot_range_high:\n",
    "        print(f'Выброс: сумма з/п {salary[i]}')"
   ]
  },
  {
   "cell_type": "code",
   "execution_count": 68,
   "metadata": {},
   "outputs": [
    {
     "data": {
      "image/png": "[encoded data removed]",
      "text/plain": [
       "<Figure size 432x288 with 1 Axes>"
      ]
     },
     "metadata": {
      "needs_background": "light"
     },
     "output_type": "display_data"
    }
   ],
   "source": [
    "sns.boxplot(b, orient='h')\n",
    "plt.show()"
   ]
  },
  {
   "cell_type": "markdown",
   "metadata": {},
   "source": [
    "### Задача 3\n",
    "\n",
    "    В университет на факультеты A и B поступило равное количество студентов, а на факультет C студентов поступило столько же, сколько на A и B вместе. Вероятность того, что студент факультета A сдаст первую сессию, равна 0.8. Для студента факультета B эта вероятность равна 0.7, а для студента факультета C - 0.9. Студент сдал первую сессию.\n",
    "    Какова вероятность, что он учится: \n",
    "    a) на факультете A? \n",
    "    б) на факультете B? \n",
    "    в) на факультете C?"
   ]
  },
  {
   "cell_type": "markdown",
   "metadata": {},
   "source": [
    "На А и В учится по 1/4 всех студентов, а на С 1/2.\n",
    "\n",
    "Общая вероятность сдачи сессии:\n",
    "\n",
    "$$P(A) = P(B_A) \\cdot P(A | B_A) + P(B_B) \\cdot P(A | B_B) + P(B_C) \\cdot P(A | B_C) = $$\n",
    "$$= \\dfrac{1}{4} \\cdot 0.8 + \\dfrac{1}{4} \\cdot 0.7 + \\dfrac{1}{2} \\cdot 0.9 = 0.825$$"
   ]
  },
  {
   "cell_type": "markdown",
   "metadata": {},
   "source": [
    "вероятность, что студент учится на факультете A:\n",
    "$$ P(B_A\\:|\\:A) = \\frac{P(A\\:|\\:B_A) \\cdot P(B_A)}{P(A)} $$\n",
    "\n",
    "вероятность, что студент учится на факультете В:\n",
    "$$ P(B_B\\:|\\:A) = \\frac{P(A\\:|\\:B_B) \\cdot P(B_B)}{P(A)} $$\n",
    "\n",
    "вероятность, что студент учится на факультете С:\n",
    "$$ P(B_C\\:|\\:A) = \\frac{P(A\\:|\\:B_C) \\cdot P(B_C)}{P(A)} $$\n",
    "\n",
    "\n",
    "\n",
    "$$ P(A\\:|\\:B_A) = 0.8 $$\n",
    "$$ P(A\\:|\\:B_B) = 0.7 $$\n",
    "$$ P(A\\:|\\:B_C) = 0.9 $$\n",
    "\n",
    "Подставляем значение в каждое уравнение:\n",
    "$$ P(B_A\\:|\\:A) = \\frac{0.25 \\cdot 0.8}{0.825} = 0.24 $$\n",
    "\n",
    "$$ P(B_B\\:|\\:A) = \\frac{0.25 \\cdot 0.7}{0.825} = 0.21 $$\n",
    "\n",
    "$$ P(B_C\\:|\\:A) = \\frac{0.5 \\cdot 0.9}{0.825} = 0.545 $$\n"
   ]
  }
 ],
 "metadata": {
  "kernelspec": {
   "display_name": "Python 3",
   "language": "python",
   "name": "python3"
  },
  "language_info": {
   "codemirror_mode": {
    "name": "ipython",
    "version": 3
   },
   "file_extension": ".py",
   "mimetype": "text/x-python",
   "name": "python",
   "nbconvert_exporter": "python",
   "pygments_lexer": "ipython3",
   "version": "3.7.6"
  }
 },
 "nbformat": 4,
 "nbformat_minor": 4
}
