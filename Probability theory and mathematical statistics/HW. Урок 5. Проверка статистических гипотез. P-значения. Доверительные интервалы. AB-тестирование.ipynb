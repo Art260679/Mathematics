{
 "cells": [
  {
   "cell_type": "markdown",
   "metadata": {},
   "source": [
    "### 1.Известно, что генеральная совокупность распределена нормально со средним квадратическим отклонением, равным 16. Найти доверительный интервал для оценки математического ожидания a с надежностью 0.95, если выборочная средняя M = 80, а объем выборки n = 256.\n",
    "\n",
    "Если дисперсия известна, то доверительный интервал для математического ожидания можно построить с помощью квантилей стандартного распределения:\n",
    "\n",
    "$$T(X) = \\dfrac{\\overline{X} - a}{\\sigma / \\sqrt{n}},$$\n",
    "Нас интересует симметричный доверительный интервал с уровнем доверия $p = 1 - \\alpha$. Тогда доверительный интервал для $T$ можно получить с помощью соответствующих квантилей:\n",
    "$$P(- t_{1 - \\alpha / 2} \\leq T \\leq t_{1 - \\alpha / 2}) = p.$$\n",
    "\n",
    "Преобразуем выражения в скобках и получим доверительный интервал для параметра $a$:\n",
    "$$\n",
    "P \\left(\n",
    "    \\overline{X} - t_{1 - \\alpha / 2} \\cdot \\dfrac{\\sigma}{\\sqrt{n}}\n",
    "    \\leq a \\leq \n",
    "    \\overline{X} + t_{1 - \\alpha / 2} \\cdot \\dfrac{\\sigma}{\\sqrt{n}}\n",
    "\\right) = p.\n",
    "$$"
   ]
  },
  {
   "cell_type": "code",
   "execution_count": 4,
   "metadata": {},
   "outputs": [
    {
     "data": {
      "text/plain": [
       "1.959963984540054"
      ]
     },
     "execution_count": 4,
     "metadata": {},
     "output_type": "execute_result"
    }
   ],
   "source": [
    "from scipy import stats\n",
    "\n",
    "mean = 80\n",
    "n = 256\n",
    "p = 0.95\n",
    "scale = 16\n",
    "alpha = 1 - p\n",
    "\n",
    "t = stats.norm.ppf(1 - alpha/2)\n",
    "t"
   ]
  },
  {
   "cell_type": "code",
   "execution_count": 8,
   "metadata": {},
   "outputs": [
    {
     "data": {
      "text/plain": [
       "(78.04003601545995, 81.95996398454005)"
      ]
     },
     "execution_count": 8,
     "metadata": {},
     "output_type": "execute_result"
    }
   ],
   "source": [
    "# Итак, доверительный интервал:\n",
    "(mean - t * scale / np.sqrt(n), mean + t * scale / np.sqrt(n))"
   ]
  },
  {
   "cell_type": "markdown",
   "metadata": {},
   "source": [
    "### 2. В результате 10 независимых измерений некоторой величины X, выполненных с одинаковой точностью, получены опытные данные: 6.9, 6.1, 6.2, 6.8, 7.5, 6.3, 6.4, 6.9, 6.7, 6.1 Предполагая, что результаты измерений подчинены нормальному закону распределения вероятностей, оценить истинное значение величины X при помощи доверительного интервала, покрывающего это значение с доверительной вероятностью 0,95."
   ]
  },
  {
   "cell_type": "code",
   "execution_count": 9,
   "metadata": {},
   "outputs": [
    {
     "data": {
      "text/plain": [
       "(10, 6.590000000000001, 0.4508017549014448)"
      ]
     },
     "execution_count": 9,
     "metadata": {},
     "output_type": "execute_result"
    }
   ],
   "source": [
    "samples = np.array([6.9, 6.1, 6.2, 6.8, 7.5, 6.3, 6.4, 6.9, 6.7, 6.1])\n",
    "\n",
    "n = samples.shape[0]\n",
    "\n",
    "mean = samples.mean()\n",
    "std = samples.std(ddof=1)\n",
    "\n",
    "n, mean, std"
   ]
  },
  {
   "cell_type": "markdown",
   "metadata": {},
   "source": [
    "квантиль $t_{1 - \\alpha/2, \\: n - 1}$  равен $2.262$."
   ]
  },
  {
   "cell_type": "code",
   "execution_count": 12,
   "metadata": {},
   "outputs": [
    {
     "data": {
      "text/plain": [
       "2.2621571627409915"
      ]
     },
     "execution_count": 12,
     "metadata": {},
     "output_type": "execute_result"
    }
   ],
   "source": [
    "alpha = 0.05\n",
    "\n",
    "t = stats.t.ppf(1 - alpha / 2, df=n - 1)\n",
    "t"
   ]
  },
  {
   "cell_type": "code",
   "execution_count": 13,
   "metadata": {},
   "outputs": [
    {
     "data": {
      "text/plain": [
       "(6.267515851415713, 6.912484148584288)"
      ]
     },
     "execution_count": 13,
     "metadata": {},
     "output_type": "execute_result"
    }
   ],
   "source": [
    "# доверительный интервал:\n",
    "\n",
    "(mean - t * std / np.sqrt(n), mean + t * std / np.sqrt(n))"
   ]
  },
  {
   "cell_type": "markdown",
   "metadata": {},
   "source": [
    "### 3. Утверждается, что шарики для подшипников, изготовленные автоматическим станком, имеют средний диаметр 17 мм.    Используя односторонний критерий с α=0,05, проверить эту гипотезу, если в выборке из n=100 шариков средний диаметр оказался равным 17.5 мм, а дисперсия известна и равна 4 мм."
   ]
  },
  {
   "cell_type": "markdown",
   "metadata": {},
   "source": [
    "Размер шарика подшипника - нормально распределенная величина.\n",
    "\n",
    "Изначально выдвинутая гипотеза состоит в том, что средняя величина размера шарика подшипника $$H_0 = 17 мм$$\n",
    "\n",
    "Выдвиним альтернативную гипотезу, что в выборке из 100 шариков средний диаметр оказался равным $$H_1 = 17.5 мм$$ Уровень значимости $\\alpha$ = 0.05\n",
    "\n",
    "Далее, определим критическую область. При $\\alpha$ = 0.05 мы фактически ищем область двух сигм: значения величины $T$ с вероятностью 0.95 попадают в интервал:\n",
    "$$\\left( 17 - \\dfrac{4}{\\sqrt{n}}, 17 + \\dfrac{4}{\\sqrt{n}} \\right)$$\n",
    "\n",
    "Поэтому для нашего выбора $\\alpha$ подойдёт двусторонняя критическая область\n",
    "$$\\left( - \\infty, 17 - \\dfrac{4}{\\sqrt{n}} \\right) \\cup \\left( 17 + \\dfrac{4}{\\sqrt{n}}, \\infty \\right)$$\n",
    "что при выборке в 100 шариков будет иметь вид\n",
    "$$\\left( - \\infty, 16.6 \\right) \\cup \\left( 17.4, \\infty \\right).$$\n",
    "нас же интересует только правосторонняя область:\n",
    "$$\\left( 17.4, \\infty \\right)$$"
   ]
  },
  {
   "cell_type": "markdown",
   "metadata": {},
   "source": [
    "### 4.Продавец утверждает, что средний вес пачки печенья составляет 200 г.  Из партии извлечена выборка из 10 пачек. Вес каждой пачки составляет: 202, 203, 199, 197, 195, 201, 200, 204, 194, 190.  Известно, что их веса распределены нормально.  Верно ли утверждение продавца, если учитывать, что доверительная вероятность равна 99%?\n",
    "\n",
    "Имея на руках отобранную партию печенья, найдем их среднее и несмещённую оценку для среднего квадратического отклонения:"
   ]
  },
  {
   "cell_type": "code",
   "execution_count": 14,
   "metadata": {},
   "outputs": [
    {
     "data": {
      "text/plain": [
       "(198.5, 4.224926034855522)"
      ]
     },
     "execution_count": 14,
     "metadata": {},
     "output_type": "execute_result"
    }
   ],
   "source": [
    "cookes = np.array([202, 203, 199, 197, 195, 201, 200, 204, 194, 190])\n",
    "m = cookes.mean()\n",
    "s = cookes.std()\n",
    "m,s"
   ]
  },
  {
   "cell_type": "markdown",
   "metadata": {},
   "source": [
    "Из таблицы квантилий при доверительной вероятности $\\alpha = 0.01$ получаем"
   ]
  },
  {
   "cell_type": "code",
   "execution_count": 15,
   "metadata": {},
   "outputs": [],
   "source": [
    "t = 3.2498"
   ]
  },
  {
   "cell_type": "markdown",
   "metadata": {},
   "source": [
    "И строим доверительный интервал для нормального распределения:"
   ]
  },
  {
   "cell_type": "code",
   "execution_count": 16,
   "metadata": {},
   "outputs": [
    {
     "data": {
      "text/plain": [
       "(194.1581407126209, 202.8418592873791)"
      ]
     },
     "execution_count": 16,
     "metadata": {},
     "output_type": "execute_result"
    }
   ],
   "source": [
    "n = 10\n",
    "(m - t * s / np.sqrt(n), m + t * s / np.sqrt(n))"
   ]
  },
  {
   "cell_type": "markdown",
   "metadata": {},
   "source": [
    "Из чего следует, что утверждение продавца при данной доверительнй вероятности не опровергнута."
   ]
  }
 ],
 "metadata": {
  "kernelspec": {
   "display_name": "Python 3",
   "language": "python",
   "name": "python3"
  },
  "language_info": {
   "codemirror_mode": {
    "name": "ipython",
    "version": 3
   },
   "file_extension": ".py",
   "mimetype": "text/x-python",
   "name": "python",
   "nbconvert_exporter": "python",
   "pygments_lexer": "ipython3",
   "version": "3.7.6"
  }
 },
 "nbformat": 4,
 "nbformat_minor": 4
}
