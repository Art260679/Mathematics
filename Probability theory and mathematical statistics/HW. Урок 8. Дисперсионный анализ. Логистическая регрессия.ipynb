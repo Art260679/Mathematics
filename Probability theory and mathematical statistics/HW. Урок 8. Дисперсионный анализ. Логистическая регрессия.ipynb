{
 "cells": [
  {
   "cell_type": "markdown",
   "metadata": {},
   "source": [
    "### Задача 1\n",
    "\n",
    "Объясняемая переменная y зависит от двух категориальных факторов __A__ и __B__, причём фактор __A__ имеет 3 уровня, а фактор __B__ - 4 уровня. \n",
    "\n",
    "Результаты наблюдений приведены в таблице:\n",
    "\n",
    "y = [[2.68, 3.29, 2.88, 4.45],\n",
    "[4.12, 4.96, 5.09, 5.22],\n",
    "[5.52, 4.50, 5.42, 5.29]]\n",
    "\n",
    "С помощью двухфакторного дисперсионного анализа проверьте влияние каждого из факторов на переменную __y__."
   ]
  },
  {
   "cell_type": "code",
   "execution_count": 23,
   "metadata": {},
   "outputs": [],
   "source": [
    "import numpy as np\n",
    "from scipy import stats\n",
    "\n",
    "y = np.array([[2.68, 3.29, 2.88, 4.45], \n",
    "     [4.12, 4.96, 5.09, 5.22], \n",
    "     [5.52, 4.50, 5.42, 5.29]])"
   ]
  },
  {
   "cell_type": "markdown",
   "metadata": {},
   "source": [
    "Для вычисления значений статистик нам  понадобятся оценки дисперсий:\n",
    "$$S_a^2 = k \\cdot \\displaystyle\\sum_{i=1}^m \\left( \\overline{Y_{i \\ast}} - \\overline{Y} \\right)^2, \\:\\:\n",
    "S_b^2 = m \\cdot \\displaystyle\\sum_{j=1}^k \\left( \\overline{Y_{\\ast j}} - \\overline{Y} \\right)^2, \\:\\:\n",
    "S_w^2 = \\displaystyle\\sum_{i=1}^m \\displaystyle\\sum_{j=1}^k \\left( y_{ij} - \\overline{Y_{i \\ast}} - \\overline{Y_{\\ast j}} + \\overline{Y} \\right)^2$$\n",
    "\n",
    "_Замечание_. Первая сумма — отклонения между уровнями фактора $a$, вторая — между уровнями фактора $b$, третья — внутригрупповые отклонения.\n",
    "\n",
    "Оценки дисперсий:\n",
    "$$\\sigma_a^2 = \\dfrac{S_a^2}{m - 1}, \\:\\: \\sigma_b^2 = \\dfrac{S_b^2}{k - 1}, \\:\\:\n",
    "\\sigma_w^2 = \\dfrac{S_w^2}{(k - 1) (m - 1)}$$\n",
    "\n",
    "Напомним, что в двухфакторном дисперсионном анализе мы проверяем две гипотезы (отдельная гипотеза о влиянии каждого из факторов). Итак, статистика для гипотезы о влиянии фактора $a$:\n",
    "$$F_a = \\dfrac{\\sigma_a^2}{\\sigma_w^2}$$\n",
    "\n",
    "В предположении верности гипотезы $H_{0a}$ эта статистика имеет распределение Фишера с параметрами $k_{1a} = m - 1$, $k_{2a} = n - m$. Далее, как обычно, строится критическая область (правосторонняя, поскольку распределение Фишера имеет один хвост), и проводится тест.\n",
    "\n",
    "Аналогично, для гипотезы о влиянии фактора $b$ статистика:\n",
    "$$F_b = \\dfrac{\\sigma_b^2}{\\sigma_w^2}$$\n",
    "\n",
    "Она также имеет распределение Фишера, теперь с параметрами $k_{1b} = k - 1$, $k_{2b} = n - k$."
   ]
  },
  {
   "cell_type": "code",
   "execution_count": 3,
   "metadata": {},
   "outputs": [
    {
     "data": {
      "text/plain": [
       "(3.325, 4.8475, 5.1825)"
      ]
     },
     "execution_count": 3,
     "metadata": {},
     "output_type": "execute_result"
    }
   ],
   "source": [
    "a1_mean = y[0].mean()\n",
    "a2_mean = y[1].mean()\n",
    "a3_mean = y[2].mean()\n",
    "\n",
    "a1_mean,a2_mean, a3_mean"
   ]
  },
  {
   "cell_type": "code",
   "execution_count": 16,
   "metadata": {},
   "outputs": [
    {
     "data": {
      "text/plain": [
       "(4.1066666666666665, 4.25, 4.463333333333334, 4.986666666666667)"
      ]
     },
     "execution_count": 16,
     "metadata": {},
     "output_type": "execute_result"
    }
   ],
   "source": [
    "b1_mean = y[:,[0]].mean()\n",
    "b2_mean = y[:,[1]].mean()\n",
    "b3_mean = y[:,[2]].mean()\n",
    "b4_mean = y[:,[3]].mean()\n",
    "\n",
    "b1_mean,b2_mean, b3_mean, b4_mean"
   ]
  },
  {
   "cell_type": "code",
   "execution_count": 17,
   "metadata": {},
   "outputs": [
    {
     "data": {
      "text/plain": [
       "4.451666666666666"
      ]
     },
     "execution_count": 17,
     "metadata": {},
     "output_type": "execute_result"
    }
   ],
   "source": [
    "y_mean = y.mean()\n",
    "y_mean"
   ]
  },
  {
   "cell_type": "code",
   "execution_count": 21,
   "metadata": {},
   "outputs": [
    {
     "data": {
      "text/plain": [
       "(7.8407166666666654, 1.338166666666669, array([1.92988333]))"
      ]
     },
     "execution_count": 21,
     "metadata": {},
     "output_type": "execute_result"
    }
   ],
   "source": [
    "S2_a = 4 * ((a1_mean - y_mean) ** 2 + (a2_mean - y_mean) ** 2 + (a3_mean - y_mean) ** 2)\n",
    "\n",
    "S2_b = 3 * ((b1_mean - y_mean) ** 2 + (b2_mean - y_mean) ** 2 + (b3_mean - y_mean) ** 2 \\\n",
    "            + (b4_mean - y_mean) ** 2)\n",
    "\n",
    "S2_w = ((y[0, [0]] - a1_mean - b1_mean + y_mean) ** 2) + ((y[1, [0]] - a2_mean - b1_mean + y_mean) ** 2)\\\n",
    "+ ((y[2, [0]] - a3_mean - b1_mean + y_mean) ** 2) + ((y[0, [1]] - a1_mean - b2_mean + y_mean) ** 2) \\\n",
    "+ ((y[1, [1]] - a2_mean - b2_mean + y_mean) ** 2) + ((y[2, [1]] - a3_mean - b2_mean + y_mean) ** 2) \\\n",
    "+ ((y[0, [2]] - a1_mean - b3_mean + y_mean) ** 2) + ((y[1, [2]] - a2_mean - b3_mean + y_mean) ** 2) \\\n",
    "+ ((y[2, [2]] - a3_mean - b3_mean + y_mean) ** 2) + ((y[0, [3]] - a1_mean - b4_mean + y_mean) ** 2) \\\n",
    "+ ((y[1, [3]] - a2_mean - b4_mean + y_mean) ** 2) + ((y[2, [3]] - a3_mean - b4_mean + y_mean) ** 2)\n",
    "\n",
    "S2_a, S2_b, S2_w"
   ]
  },
  {
   "cell_type": "code",
   "execution_count": 19,
   "metadata": {},
   "outputs": [
    {
     "data": {
      "text/plain": [
       "(3.9203583333333327, 0.4460555555555563, 0.3216472222222222)"
      ]
     },
     "execution_count": 19,
     "metadata": {},
     "output_type": "execute_result"
    }
   ],
   "source": [
    "# оценки дисперсий:\n",
    "\n",
    "sigma2_a = S2_a / 2\n",
    "sigma2_b = S2_b / 3\n",
    "sigma2_w = S2_w[0] / (3*2)\n",
    "\n",
    "sigma2_a, sigma2_b, sigma2_w"
   ]
  },
  {
   "cell_type": "code",
   "execution_count": 20,
   "metadata": {},
   "outputs": [
    {
     "data": {
      "text/plain": [
       "(12.188379262995172, 1.3867850388192748)"
      ]
     },
     "execution_count": 20,
     "metadata": {},
     "output_type": "execute_result"
    }
   ],
   "source": [
    "# проверяем две гипотезы:\n",
    "Fa = sigma2_a / sigma2_w\n",
    "Fb = sigma2_b / sigma2_w\n",
    "Fa, Fb"
   ]
  },
  {
   "cell_type": "code",
   "execution_count": 25,
   "metadata": {},
   "outputs": [
    {
     "data": {
      "text/plain": [
       "(4.25649472909375, 4.06618055135116)"
      ]
     },
     "execution_count": 25,
     "metadata": {},
     "output_type": "execute_result"
    }
   ],
   "source": [
    "# уровень значимости α=0.05 . Для него найдём критические значения Fcrit:\n",
    "alpha = 0.05\n",
    "F_crit_a = stats.f.ppf(1 - alpha, 2, 9)\n",
    "F_crit_b = stats.f.ppf(1 - alpha, 3, 8)\n",
    "F_crit_a, F_crit_b"
   ]
  },
  {
   "cell_type": "markdown",
   "metadata": {},
   "source": [
    "Fb < F_crit_b , поэтому гипотезу, что фактор b не влияет на значение объясняемой переменной, оставляем в силе."
   ]
  },
  {
   "cell_type": "markdown",
   "metadata": {},
   "source": [
    "### Задача 2\n",
    "\n",
    "Прикрепите ссылку на курсовой проект на github (см. выбор темы в ДЗ к Уроку 6).\n",
    "\n",
    "Курсовую работу по теории вероятностей и математической статистике можно оценить [здесь](https://github.com/Art260679/Mathematics/blob/master/Probability%20theory%20and%20mathematical%20statistics/Курсовая%20работа%20по%20теории%20вероятностей%20и%20математической%20статистике.ipynb)\n"
   ]
  },
  {
   "cell_type": "code",
   "execution_count": 27,
   "metadata": {},
   "outputs": [
    {
     "name": "stdout",
     "output_type": "stream",
     "text": [
      "Collecting pandas_profiling\n",
      "  Downloading pandas_profiling-2.8.0-py2.py3-none-any.whl (259 kB)\n",
      "\u001b[K     |████████████████████████████████| 259 kB 451 kB/s eta 0:00:01\n",
      "\u001b[?25hRequirement already satisfied: scipy>=1.4.1 in /home/art/anaconda3/lib/python3.7/site-packages (from pandas_profiling) (1.4.1)\n",
      "Requirement already satisfied: jinja2>=2.11.1 in /home/art/anaconda3/lib/python3.7/site-packages (from pandas_profiling) (2.11.1)\n",
      "Requirement already satisfied: astropy>=4.0 in /home/art/anaconda3/lib/python3.7/site-packages (from pandas_profiling) (4.0)\n",
      "Collecting matplotlib>=3.2.0\n",
      "  Downloading matplotlib-3.3.1-cp37-cp37m-manylinux1_x86_64.whl (11.6 MB)\n",
      "\u001b[K     |████████████████████████████████| 11.6 MB 1.3 MB/s eta 0:00:01    |██████▌                         | 2.3 MB 713 kB/s eta 0:00:13     |██████████████████▉             | 6.8 MB 731 kB/s eta 0:00:07     |████████████████████▍           | 7.4 MB 519 kB/s eta 0:00:09     |███████████████████████████     | 9.8 MB 518 kB/s eta 0:00:04\n",
      "\u001b[?25hCollecting missingno>=0.4.2\n",
      "  Downloading missingno-0.4.2-py3-none-any.whl (9.7 kB)\n",
      "Collecting htmlmin>=0.1.12\n",
      "  Downloading htmlmin-0.1.12.tar.gz (19 kB)\n",
      "Collecting tangled-up-in-unicode>=0.0.6\n",
      "  Downloading tangled_up_in_unicode-0.0.6-py3-none-any.whl (3.1 MB)\n",
      "\u001b[K     |████████████████████████████████| 3.1 MB 561 kB/s eta 0:00:01     |███████▉                        | 768 kB 3.6 MB/s eta 0:00:01\n",
      "\u001b[?25hCollecting requests>=2.23.0\n",
      "  Downloading requests-2.24.0-py2.py3-none-any.whl (61 kB)\n",
      "\u001b[K     |████████████████████████████████| 61 kB 181 kB/s eta 0:00:01\n",
      "\u001b[?25hRequirement already satisfied: ipywidgets>=7.5.1 in /home/art/anaconda3/lib/python3.7/site-packages (from pandas_profiling) (7.5.1)\n",
      "Requirement already satisfied: numpy>=1.16.0 in /home/art/anaconda3/lib/python3.7/site-packages (from pandas_profiling) (1.18.1)\n",
      "Collecting tqdm>=4.43.0\n",
      "  Downloading tqdm-4.48.2-py2.py3-none-any.whl (68 kB)\n",
      "\u001b[K     |████████████████████████████████| 68 kB 676 kB/s eta 0:00:011\n",
      "\u001b[?25hCollecting confuse>=1.0.0\n",
      "  Downloading confuse-1.3.0-py2.py3-none-any.whl (64 kB)\n",
      "\u001b[K     |████████████████████████████████| 64 kB 354 kB/s eta 0:00:01\n",
      "\u001b[?25hRequirement already satisfied: joblib in /home/art/anaconda3/lib/python3.7/site-packages (from pandas_profiling) (0.14.1)\n",
      "Collecting pandas!=1.0.0,!=1.0.1,!=1.0.2,>=0.25.3\n",
      "  Downloading pandas-1.1.1-cp37-cp37m-manylinux1_x86_64.whl (10.5 MB)\n",
      "\u001b[K     |████████████████████████████████| 10.5 MB 518 kB/s eta 0:00:01    |███████▌                        | 2.5 MB 843 kB/s eta 0:00:10\n",
      "\u001b[?25hCollecting visions[type_image_path]==0.4.4\n",
      "  Downloading visions-0.4.4-py3-none-any.whl (59 kB)\n",
      "\u001b[K     |████████████████████████████████| 59 kB 1.3 MB/s eta 0:00:01\n",
      "\u001b[?25hCollecting phik>=0.9.10\n",
      "  Downloading phik-0.10.0-py3-none-any.whl (599 kB)\n",
      "\u001b[K     |████████████████████████████████| 599 kB 1.0 MB/s eta 0:00:01\n",
      "\u001b[?25hRequirement already satisfied: MarkupSafe>=0.23 in /home/art/anaconda3/lib/python3.7/site-packages (from jinja2>=2.11.1->pandas_profiling) (1.1.1)\n",
      "Requirement already satisfied: cycler>=0.10 in /home/art/anaconda3/lib/python3.7/site-packages (from matplotlib>=3.2.0->pandas_profiling) (0.10.0)\n",
      "Requirement already satisfied: pillow>=6.2.0 in /home/art/anaconda3/lib/python3.7/site-packages (from matplotlib>=3.2.0->pandas_profiling) (7.0.0)\n",
      "Collecting certifi>=2020.06.20\n",
      "  Downloading certifi-2020.6.20-py2.py3-none-any.whl (156 kB)\n",
      "\u001b[K     |████████████████████████████████| 156 kB 581 kB/s eta 0:00:01\n",
      "\u001b[?25hRequirement already satisfied: pyparsing!=2.0.4,!=2.1.2,!=2.1.6,>=2.0.3 in /home/art/anaconda3/lib/python3.7/site-packages (from matplotlib>=3.2.0->pandas_profiling) (2.4.6)\n",
      "Requirement already satisfied: kiwisolver>=1.0.1 in /home/art/anaconda3/lib/python3.7/site-packages (from matplotlib>=3.2.0->pandas_profiling) (1.1.0)\n",
      "Requirement already satisfied: python-dateutil>=2.1 in /home/art/anaconda3/lib/python3.7/site-packages (from matplotlib>=3.2.0->pandas_profiling) (2.8.1)\n",
      "Requirement already satisfied: seaborn in /home/art/anaconda3/lib/python3.7/site-packages (from missingno>=0.4.2->pandas_profiling) (0.10.0)\n",
      "Requirement already satisfied: urllib3!=1.25.0,!=1.25.1,<1.26,>=1.21.1 in /home/art/anaconda3/lib/python3.7/site-packages (from requests>=2.23.0->pandas_profiling) (1.25.8)\n",
      "Requirement already satisfied: idna<3,>=2.5 in /home/art/anaconda3/lib/python3.7/site-packages (from requests>=2.23.0->pandas_profiling) (2.8)\n",
      "Requirement already satisfied: chardet<4,>=3.0.2 in /home/art/anaconda3/lib/python3.7/site-packages (from requests>=2.23.0->pandas_profiling) (3.0.4)\n",
      "Requirement already satisfied: nbformat>=4.2.0 in /home/art/anaconda3/lib/python3.7/site-packages (from ipywidgets>=7.5.1->pandas_profiling) (5.0.4)\n",
      "Requirement already satisfied: ipython>=4.0.0; python_version >= \"3.3\" in /home/art/anaconda3/lib/python3.7/site-packages (from ipywidgets>=7.5.1->pandas_profiling) (7.12.0)\n",
      "Requirement already satisfied: traitlets>=4.3.1 in /home/art/anaconda3/lib/python3.7/site-packages (from ipywidgets>=7.5.1->pandas_profiling) (4.3.3)\n",
      "Requirement already satisfied: widgetsnbextension~=3.5.0 in /home/art/anaconda3/lib/python3.7/site-packages (from ipywidgets>=7.5.1->pandas_profiling) (3.5.1)\n",
      "Requirement already satisfied: ipykernel>=4.5.1 in /home/art/anaconda3/lib/python3.7/site-packages (from ipywidgets>=7.5.1->pandas_profiling) (5.1.4)\n",
      "Requirement already satisfied: pyyaml in /home/art/anaconda3/lib/python3.7/site-packages (from confuse>=1.0.0->pandas_profiling) (5.3)\n",
      "Requirement already satisfied: pytz>=2017.2 in /home/art/anaconda3/lib/python3.7/site-packages (from pandas!=1.0.0,!=1.0.1,!=1.0.2,>=0.25.3->pandas_profiling) (2019.3)\n",
      "Requirement already satisfied: attrs>=19.3.0 in /home/art/anaconda3/lib/python3.7/site-packages (from visions[type_image_path]==0.4.4->pandas_profiling) (19.3.0)\n",
      "Requirement already satisfied: networkx>=2.4 in /home/art/anaconda3/lib/python3.7/site-packages (from visions[type_image_path]==0.4.4->pandas_profiling) (2.4)\n",
      "Collecting imagehash; extra == \"type_image_path\"\n",
      "  Downloading ImageHash-4.1.0.tar.gz (291 kB)\n",
      "\u001b[K     |████████████████████████████████| 291 kB 709 kB/s eta 0:00:01\n",
      "\u001b[?25hRequirement already satisfied: numba>=0.38.1 in /home/art/anaconda3/lib/python3.7/site-packages (from phik>=0.9.10->pandas_profiling) (0.48.0)\n",
      "Requirement already satisfied: six in /home/art/anaconda3/lib/python3.7/site-packages (from cycler>=0.10->matplotlib>=3.2.0->pandas_profiling) (1.14.0)\n",
      "Requirement already satisfied: setuptools in /home/art/anaconda3/lib/python3.7/site-packages (from kiwisolver>=1.0.1->matplotlib>=3.2.0->pandas_profiling) (45.2.0.post20200210)\n",
      "Requirement already satisfied: jsonschema!=2.5.0,>=2.4 in /home/art/anaconda3/lib/python3.7/site-packages (from nbformat>=4.2.0->ipywidgets>=7.5.1->pandas_profiling) (3.2.0)\n",
      "Requirement already satisfied: ipython-genutils in /home/art/anaconda3/lib/python3.7/site-packages (from nbformat>=4.2.0->ipywidgets>=7.5.1->pandas_profiling) (0.2.0)\n",
      "Requirement already satisfied: jupyter-core in /home/art/anaconda3/lib/python3.7/site-packages (from nbformat>=4.2.0->ipywidgets>=7.5.1->pandas_profiling) (4.6.1)\n",
      "Requirement already satisfied: backcall in /home/art/anaconda3/lib/python3.7/site-packages (from ipython>=4.0.0; python_version >= \"3.3\"->ipywidgets>=7.5.1->pandas_profiling) (0.1.0)\n",
      "Requirement already satisfied: pickleshare in /home/art/anaconda3/lib/python3.7/site-packages (from ipython>=4.0.0; python_version >= \"3.3\"->ipywidgets>=7.5.1->pandas_profiling) (0.7.5)\n",
      "Requirement already satisfied: decorator in /home/art/anaconda3/lib/python3.7/site-packages (from ipython>=4.0.0; python_version >= \"3.3\"->ipywidgets>=7.5.1->pandas_profiling) (4.4.1)\n",
      "Requirement already satisfied: jedi>=0.10 in /home/art/anaconda3/lib/python3.7/site-packages (from ipython>=4.0.0; python_version >= \"3.3\"->ipywidgets>=7.5.1->pandas_profiling) (0.14.1)\n",
      "Requirement already satisfied: pexpect; sys_platform != \"win32\" in /home/art/anaconda3/lib/python3.7/site-packages (from ipython>=4.0.0; python_version >= \"3.3\"->ipywidgets>=7.5.1->pandas_profiling) (4.8.0)\n",
      "Requirement already satisfied: prompt-toolkit!=3.0.0,!=3.0.1,<3.1.0,>=2.0.0 in /home/art/anaconda3/lib/python3.7/site-packages (from ipython>=4.0.0; python_version >= \"3.3\"->ipywidgets>=7.5.1->pandas_profiling) (3.0.3)\n",
      "Requirement already satisfied: pygments in /home/art/anaconda3/lib/python3.7/site-packages (from ipython>=4.0.0; python_version >= \"3.3\"->ipywidgets>=7.5.1->pandas_profiling) (2.5.2)\n"
     ]
    },
    {
     "name": "stdout",
     "output_type": "stream",
     "text": [
      "Requirement already satisfied: notebook>=4.4.1 in /home/art/anaconda3/lib/python3.7/site-packages (from widgetsnbextension~=3.5.0->ipywidgets>=7.5.1->pandas_profiling) (6.0.3)\n",
      "Requirement already satisfied: tornado>=4.2 in /home/art/anaconda3/lib/python3.7/site-packages (from ipykernel>=4.5.1->ipywidgets>=7.5.1->pandas_profiling) (6.0.3)\n",
      "Requirement already satisfied: jupyter-client in /home/art/anaconda3/lib/python3.7/site-packages (from ipykernel>=4.5.1->ipywidgets>=7.5.1->pandas_profiling) (5.3.4)\n",
      "Requirement already satisfied: PyWavelets in /home/art/anaconda3/lib/python3.7/site-packages (from imagehash; extra == \"type_image_path\"->visions[type_image_path]==0.4.4->pandas_profiling) (1.1.1)\n",
      "Requirement already satisfied: llvmlite<0.32.0,>=0.31.0dev0 in /home/art/anaconda3/lib/python3.7/site-packages (from numba>=0.38.1->phik>=0.9.10->pandas_profiling) (0.31.0)\n",
      "Requirement already satisfied: pyrsistent>=0.14.0 in /home/art/anaconda3/lib/python3.7/site-packages (from jsonschema!=2.5.0,>=2.4->nbformat>=4.2.0->ipywidgets>=7.5.1->pandas_profiling) (0.15.7)\n",
      "Requirement already satisfied: importlib-metadata; python_version < \"3.8\" in /home/art/anaconda3/lib/python3.7/site-packages (from jsonschema!=2.5.0,>=2.4->nbformat>=4.2.0->ipywidgets>=7.5.1->pandas_profiling) (1.5.0)\n",
      "Requirement already satisfied: parso>=0.5.0 in /home/art/anaconda3/lib/python3.7/site-packages (from jedi>=0.10->ipython>=4.0.0; python_version >= \"3.3\"->ipywidgets>=7.5.1->pandas_profiling) (0.5.2)\n",
      "Requirement already satisfied: ptyprocess>=0.5 in /home/art/anaconda3/lib/python3.7/site-packages (from pexpect; sys_platform != \"win32\"->ipython>=4.0.0; python_version >= \"3.3\"->ipywidgets>=7.5.1->pandas_profiling) (0.6.0)\n",
      "Requirement already satisfied: wcwidth in /home/art/anaconda3/lib/python3.7/site-packages (from prompt-toolkit!=3.0.0,!=3.0.1,<3.1.0,>=2.0.0->ipython>=4.0.0; python_version >= \"3.3\"->ipywidgets>=7.5.1->pandas_profiling) (0.1.8)\n",
      "Requirement already satisfied: pyzmq>=17 in /home/art/anaconda3/lib/python3.7/site-packages (from notebook>=4.4.1->widgetsnbextension~=3.5.0->ipywidgets>=7.5.1->pandas_profiling) (18.1.1)\n",
      "Requirement already satisfied: nbconvert in /home/art/anaconda3/lib/python3.7/site-packages (from notebook>=4.4.1->widgetsnbextension~=3.5.0->ipywidgets>=7.5.1->pandas_profiling) (5.6.1)\n",
      "Requirement already satisfied: Send2Trash in /home/art/anaconda3/lib/python3.7/site-packages (from notebook>=4.4.1->widgetsnbextension~=3.5.0->ipywidgets>=7.5.1->pandas_profiling) (1.5.0)\n",
      "Requirement already satisfied: terminado>=0.8.1 in /home/art/anaconda3/lib/python3.7/site-packages (from notebook>=4.4.1->widgetsnbextension~=3.5.0->ipywidgets>=7.5.1->pandas_profiling) (0.8.3)\n",
      "Requirement already satisfied: prometheus-client in /home/art/anaconda3/lib/python3.7/site-packages (from notebook>=4.4.1->widgetsnbextension~=3.5.0->ipywidgets>=7.5.1->pandas_profiling) (0.7.1)\n",
      "Requirement already satisfied: zipp>=0.5 in /home/art/anaconda3/lib/python3.7/site-packages (from importlib-metadata; python_version < \"3.8\"->jsonschema!=2.5.0,>=2.4->nbformat>=4.2.0->ipywidgets>=7.5.1->pandas_profiling) (2.2.0)\n",
      "Requirement already satisfied: defusedxml in /home/art/anaconda3/lib/python3.7/site-packages (from nbconvert->notebook>=4.4.1->widgetsnbextension~=3.5.0->ipywidgets>=7.5.1->pandas_profiling) (0.6.0)\n",
      "Requirement already satisfied: mistune<2,>=0.8.1 in /home/art/anaconda3/lib/python3.7/site-packages (from nbconvert->notebook>=4.4.1->widgetsnbextension~=3.5.0->ipywidgets>=7.5.1->pandas_profiling) (0.8.4)\n",
      "Requirement already satisfied: testpath in /home/art/anaconda3/lib/python3.7/site-packages (from nbconvert->notebook>=4.4.1->widgetsnbextension~=3.5.0->ipywidgets>=7.5.1->pandas_profiling) (0.4.4)\n",
      "Requirement already satisfied: bleach in /home/art/anaconda3/lib/python3.7/site-packages (from nbconvert->notebook>=4.4.1->widgetsnbextension~=3.5.0->ipywidgets>=7.5.1->pandas_profiling) (3.1.0)\n",
      "Requirement already satisfied: pandocfilters>=1.4.1 in /home/art/anaconda3/lib/python3.7/site-packages (from nbconvert->notebook>=4.4.1->widgetsnbextension~=3.5.0->ipywidgets>=7.5.1->pandas_profiling) (1.4.2)\n",
      "Requirement already satisfied: entrypoints>=0.2.2 in /home/art/anaconda3/lib/python3.7/site-packages (from nbconvert->notebook>=4.4.1->widgetsnbextension~=3.5.0->ipywidgets>=7.5.1->pandas_profiling) (0.3)\n",
      "Requirement already satisfied: webencodings in /home/art/anaconda3/lib/python3.7/site-packages (from bleach->nbconvert->notebook>=4.4.1->widgetsnbextension~=3.5.0->ipywidgets>=7.5.1->pandas_profiling) (0.5.1)\n",
      "Building wheels for collected packages: htmlmin, imagehash\n",
      "  Building wheel for htmlmin (setup.py) ... \u001b[?25ldone\n",
      "\u001b[?25h  Created wheel for htmlmin: filename=htmlmin-0.1.12-py3-none-any.whl size=27084 sha256=6ca7bcfb4d43e931c87d2ee1b8183ec2839039d00eebba130791ea16298c6347\n",
      "  Stored in directory: /home/art/.cache/pip/wheels/70/e1/52/5b14d250ba868768823940c3229e9950d201a26d0bd3ee8655\n",
      "  Building wheel for imagehash (setup.py) ... \u001b[?25ldone\n",
      "\u001b[?25h  Created wheel for imagehash: filename=ImageHash-4.1.0-py2.py3-none-any.whl size=291990 sha256=98a79581d8ded02a300968612052a33d9b9f8e91de560ffb8b5cc4f2ab6a8b98\n",
      "  Stored in directory: /home/art/.cache/pip/wheels/16/72/b0/e5be34699908d9ff25dcb3debbb717987b766af61bbddffdfe\n",
      "Successfully built htmlmin imagehash\n",
      "Installing collected packages: certifi, matplotlib, missingno, htmlmin, tangled-up-in-unicode, requests, tqdm, confuse, pandas, imagehash, visions, phik, pandas-profiling\n",
      "  Attempting uninstall: certifi\n",
      "    Found existing installation: certifi 2019.11.28\n",
      "    Uninstalling certifi-2019.11.28:\n",
      "      Successfully uninstalled certifi-2019.11.28\n",
      "  Attempting uninstall: matplotlib\n",
      "    Found existing installation: matplotlib 3.1.3\n",
      "    Uninstalling matplotlib-3.1.3:\n",
      "      Successfully uninstalled matplotlib-3.1.3\n",
      "  Attempting uninstall: requests\n",
      "    Found existing installation: requests 2.22.0\n",
      "    Uninstalling requests-2.22.0:\n",
      "      Successfully uninstalled requests-2.22.0\n",
      "  Attempting uninstall: tqdm\n",
      "    Found existing installation: tqdm 4.42.1\n",
      "    Uninstalling tqdm-4.42.1:\n",
      "      Successfully uninstalled tqdm-4.42.1\n",
      "  Attempting uninstall: pandas\n",
      "    Found existing installation: pandas 1.0.1\n",
      "    Uninstalling pandas-1.0.1:\n",
      "      Successfully uninstalled pandas-1.0.1\n",
      "Successfully installed certifi-2020.6.20 confuse-1.3.0 htmlmin-0.1.12 imagehash-4.1.0 matplotlib-3.3.1 missingno-0.4.2 pandas-1.1.1 pandas-profiling-2.8.0 phik-0.10.0 requests-2.24.0 tangled-up-in-unicode-0.0.6 tqdm-4.48.2 visions-0.4.4\n",
      "Note: you may need to restart the kernel to use updated packages.\n"
     ]
    }
   ],
   "source": [
    "\n",
    "pip install pandas_profiling"
   ]
  }
 ],
 "metadata": {
  "kernelspec": {
   "display_name": "Python 3",
   "language": "python",
   "name": "python3"
  },
  "language_info": {
   "codemirror_mode": {
    "name": "ipython",
    "version": 3
   },
   "file_extension": ".py",
   "mimetype": "text/x-python",
   "name": "python",
   "nbconvert_exporter": "python",
   "pygments_lexer": "ipython3",
   "version": "3.7.6"
  }
 },
 "nbformat": 4,
 "nbformat_minor": 4
}
