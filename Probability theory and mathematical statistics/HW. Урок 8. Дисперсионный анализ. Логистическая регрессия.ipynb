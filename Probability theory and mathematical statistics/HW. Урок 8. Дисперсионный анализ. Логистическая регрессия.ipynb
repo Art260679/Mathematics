{
 "cells": [
  {
   "cell_type": "markdown",
   "metadata": {},
   "source": [
    "### Задача 1\n",
    "\n",
    "Объясняемая переменная y зависит от двух категориальных факторов __A__ и __B__, причём фактор __A__ имеет 3 уровня, а фактор __B__ - 4 уровня. \n",
    "\n",
    "Результаты наблюдений приведены в таблице:\n",
    "\n",
    "y = [[2.68, 3.29, 2.88, 4.45],\n",
    "[4.12, 4.96, 5.09, 5.22],\n",
    "[5.52, 4.50, 5.42, 5.29]]\n",
    "\n",
    "С помощью двухфакторного дисперсионного анализа проверьте влияние каждого из факторов на переменную __y__."
   ]
  },
  {
   "cell_type": "code",
   "execution_count": 23,
   "metadata": {},
   "outputs": [],
   "source": [
    "import numpy as np\n",
    "from scipy import stats\n",
    "\n",
    "y = np.array([[2.68, 3.29, 2.88, 4.45], \n",
    "     [4.12, 4.96, 5.09, 5.22], \n",
    "     [5.52, 4.50, 5.42, 5.29]])"
   ]
  },
  {
   "cell_type": "markdown",
   "metadata": {},
   "source": [
    "Для вычисления значений статистик нам  понадобятся оценки дисперсий:\n",
    "$$S_a^2 = k \\cdot \\displaystyle\\sum_{i=1}^m \\left( \\overline{Y_{i \\ast}} - \\overline{Y} \\right)^2, \\:\\:\n",
    "S_b^2 = m \\cdot \\displaystyle\\sum_{j=1}^k \\left( \\overline{Y_{\\ast j}} - \\overline{Y} \\right)^2, \\:\\:\n",
    "S_w^2 = \\displaystyle\\sum_{i=1}^m \\displaystyle\\sum_{j=1}^k \\left( y_{ij} - \\overline{Y_{i \\ast}} - \\overline{Y_{\\ast j}} + \\overline{Y} \\right)^2$$\n",
    "\n",
    "_Замечание_. Первая сумма — отклонения между уровнями фактора $a$, вторая — между уровнями фактора $b$, третья — внутригрупповые отклонения.\n",
    "\n",
    "Оценки дисперсий:\n",
    "$$\\sigma_a^2 = \\dfrac{S_a^2}{m - 1}, \\:\\: \\sigma_b^2 = \\dfrac{S_b^2}{k - 1}, \\:\\:\n",
    "\\sigma_w^2 = \\dfrac{S_w^2}{(k - 1) (m - 1)}$$\n",
    "\n",
    "Напомним, что в двухфакторном дисперсионном анализе мы проверяем две гипотезы (отдельная гипотеза о влиянии каждого из факторов). Итак, статистика для гипотезы о влиянии фактора $a$:\n",
    "$$F_a = \\dfrac{\\sigma_a^2}{\\sigma_w^2}$$\n",
    "\n",
    "В предположении верности гипотезы $H_{0a}$ эта статистика имеет распределение Фишера с параметрами $k_{1a} = m - 1$, $k_{2a} = n - m$. Далее, как обычно, строится критическая область (правосторонняя, поскольку распределение Фишера имеет один хвост), и проводится тест.\n",
    "\n",
    "Аналогично, для гипотезы о влиянии фактора $b$ статистика:\n",
    "$$F_b = \\dfrac{\\sigma_b^2}{\\sigma_w^2}$$\n",
    "\n",
    "Она также имеет распределение Фишера, теперь с параметрами $k_{1b} = k - 1$, $k_{2b} = n - k$."
   ]
  },
  {
   "cell_type": "code",
   "execution_count": 3,
   "metadata": {},
   "outputs": [
    {
     "data": {
      "text/plain": [
       "(3.325, 4.8475, 5.1825)"
      ]
     },
     "execution_count": 3,
     "metadata": {},
     "output_type": "execute_result"
    }
   ],
   "source": [
    "a1_mean = y[0].mean()\n",
    "a2_mean = y[1].mean()\n",
    "a3_mean = y[2].mean()\n",
    "\n",
    "a1_mean,a2_mean, a3_mean"
   ]
  },
  {
   "cell_type": "code",
   "execution_count": 16,
   "metadata": {},
   "outputs": [
    {
     "data": {
      "text/plain": [
       "(4.1066666666666665, 4.25, 4.463333333333334, 4.986666666666667)"
      ]
     },
     "execution_count": 16,
     "metadata": {},
     "output_type": "execute_result"
    }
   ],
   "source": [
    "b1_mean = y[:,[0]].mean()\n",
    "b2_mean = y[:,[1]].mean()\n",
    "b3_mean = y[:,[2]].mean()\n",
    "b4_mean = y[:,[3]].mean()\n",
    "\n",
    "b1_mean,b2_mean, b3_mean, b4_mean"
   ]
  },
  {
   "cell_type": "code",
   "execution_count": 17,
   "metadata": {},
   "outputs": [
    {
     "data": {
      "text/plain": [
       "4.451666666666666"
      ]
     },
     "execution_count": 17,
     "metadata": {},
     "output_type": "execute_result"
    }
   ],
   "source": [
    "y_mean = y.mean()\n",
    "y_mean"
   ]
  },
  {
   "cell_type": "code",
   "execution_count": 21,
   "metadata": {},
   "outputs": [
    {
     "data": {
      "text/plain": [
       "(7.8407166666666654, 1.338166666666669, array([1.92988333]))"
      ]
     },
     "execution_count": 21,
     "metadata": {},
     "output_type": "execute_result"
    }
   ],
   "source": [
    "S2_a = 4 * ((a1_mean - y_mean) ** 2 + (a2_mean - y_mean) ** 2 + (a3_mean - y_mean) ** 2)\n",
    "\n",
    "S2_b = 3 * ((b1_mean - y_mean) ** 2 + (b2_mean - y_mean) ** 2 + (b3_mean - y_mean) ** 2 \\\n",
    "            + (b4_mean - y_mean) ** 2)\n",
    "\n",
    "S2_w = ((y[0, [0]] - a1_mean - b1_mean + y_mean) ** 2) + ((y[1, [0]] - a2_mean - b1_mean + y_mean) ** 2)\\\n",
    "+ ((y[2, [0]] - a3_mean - b1_mean + y_mean) ** 2) + ((y[0, [1]] - a1_mean - b2_mean + y_mean) ** 2) \\\n",
    "+ ((y[1, [1]] - a2_mean - b2_mean + y_mean) ** 2) + ((y[2, [1]] - a3_mean - b2_mean + y_mean) ** 2) \\\n",
    "+ ((y[0, [2]] - a1_mean - b3_mean + y_mean) ** 2) + ((y[1, [2]] - a2_mean - b3_mean + y_mean) ** 2) \\\n",
    "+ ((y[2, [2]] - a3_mean - b3_mean + y_mean) ** 2) + ((y[0, [3]] - a1_mean - b4_mean + y_mean) ** 2) \\\n",
    "+ ((y[1, [3]] - a2_mean - b4_mean + y_mean) ** 2) + ((y[2, [3]] - a3_mean - b4_mean + y_mean) ** 2)\n",
    "\n",
    "S2_a, S2_b, S2_w"
   ]
  },
  {
   "cell_type": "code",
   "execution_count": 19,
   "metadata": {},
   "outputs": [
    {
     "data": {
      "text/plain": [
       "(3.9203583333333327, 0.4460555555555563, 0.3216472222222222)"
      ]
     },
     "execution_count": 19,
     "metadata": {},
     "output_type": "execute_result"
    }
   ],
   "source": [
    "# оценки дисперсий:\n",
    "\n",
    "sigma2_a = S2_a / 2\n",
    "sigma2_b = S2_b / 3\n",
    "sigma2_w = S2_w[0] / (3*2)\n",
    "\n",
    "sigma2_a, sigma2_b, sigma2_w"
   ]
  },
  {
   "cell_type": "code",
   "execution_count": 20,
   "metadata": {},
   "outputs": [
    {
     "data": {
      "text/plain": [
       "(12.188379262995172, 1.3867850388192748)"
      ]
     },
     "execution_count": 20,
     "metadata": {},
     "output_type": "execute_result"
    }
   ],
   "source": [
    "# проверяем две гипотезы:\n",
    "Fa = sigma2_a / sigma2_w\n",
    "Fb = sigma2_b / sigma2_w\n",
    "Fa, Fb"
   ]
  },
  {
   "cell_type": "code",
   "execution_count": 25,
   "metadata": {},
   "outputs": [
    {
     "data": {
      "text/plain": [
       "(4.25649472909375, 4.06618055135116)"
      ]
     },
     "execution_count": 25,
     "metadata": {},
     "output_type": "execute_result"
    }
   ],
   "source": [
    "# уровень значимости α=0.05 . Для него найдём критические значения Fcrit:\n",
    "alpha = 0.05\n",
    "F_crit_a = stats.f.ppf(1 - alpha, 2, 9)\n",
    "F_crit_b = stats.f.ppf(1 - alpha, 3, 8)\n",
    "F_crit_a, F_crit_b"
   ]
  },
  {
   "cell_type": "markdown",
   "metadata": {},
   "source": [
    "Fb < F_crit_b , поэтому гипотезу, что фактор b не влияет на значение объясняемой переменной, оставляем в силе."
   ]
  },
  {
   "cell_type": "markdown",
   "metadata": {},
   "source": [
    "### Задача 2\n",
    "\n",
    "Прикрепите ссылку на курсовой проект на github (см. выбор темы в ДЗ к Уроку 6).\n",
    "\n",
    "Курсовая работа по теории вероятностей и математической статистике [здесь](https://github.com/Art260679/Mathematics/blob/master/Probability%20theory%20and%20mathematical%20statistics/Курсовая%20работа%20по%20теории%20вероятностей%20и%20математической%20статистике.ipynb)\n"
   ]
  }
 ],
 "metadata": {
  "kernelspec": {
   "display_name": "Python 3",
   "language": "python",
   "name": "python3"
  },
  "language_info": {
   "codemirror_mode": {
    "name": "ipython",
    "version": 3
   },
   "file_extension": ".py",
   "mimetype": "text/x-python",
   "name": "python",
   "nbconvert_exporter": "python",
   "pygments_lexer": "ipython3",
   "version": "3.7.6"
  }
 },
 "nbformat": 4,
 "nbformat_minor": 4
}
