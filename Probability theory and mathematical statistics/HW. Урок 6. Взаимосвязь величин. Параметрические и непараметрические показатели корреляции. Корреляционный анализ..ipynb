{
 "cells": [
  {
   "cell_type": "markdown",
   "metadata": {},
   "source": [
    "### Задача 1\n",
    "\n",
    "Даны значения величины заработной платы заемщиков банка (salary) и значения их поведенческого кредитного скоринга (scoring):\n",
    "\n",
    "salary = [35, 45, 190, 200, 40, 70, 54, 150, 120, 110]\n",
    "\n",
    "scoring = [401, 574, 874, 919, 459, 739, 653, 902, 746, 832]\n",
    "\n",
    "Используя только встроенные питоновские функции и структуры данных (т.е. без библиотек numpy, pandas и др.) найдите:\n",
    "\n",
    "ковариацию (смещённую и несмещённую) этих двух величин,\n",
    "\n",
    "коэффициент корреляции Пирсона,\n",
    "\n",
    "коэффициент корреляции Кендалла.\n",
    "\n",
    "Можно затем посчитать те же значения с использованием библиотек, чтобы проверить себя."
   ]
  },
  {
   "cell_type": "code",
   "execution_count": 56,
   "metadata": {},
   "outputs": [],
   "source": [
    "import numpy as np\n",
    "import pandas as pd\n",
    "from itertools import combinations\n",
    "\n",
    "salary = [35, 45, 190, 200, 40, 70, 54, 150, 120, 110] \n",
    "scoring = [401, 574, 874, 919, 459, 739, 653, 902, 746, 832]"
   ]
  },
  {
   "cell_type": "markdown",
   "metadata": {},
   "source": [
    "__Ковариация(смещенная), или корреляционный момент:__$$cov_{XY} = M[(X - M(X))(Y - M(Y))] = M(XY) - M(X)M(Y)$$"
   ]
  },
  {
   "cell_type": "code",
   "execution_count": 57,
   "metadata": {},
   "outputs": [
    {
     "name": "stdout",
     "output_type": "stream",
     "text": [
      "Ковариация смещенная:9157.839999999997\n"
     ]
    },
    {
     "data": {
      "text/plain": [
       "array([[ 3494.64,  9157.84],\n",
       "       [ 9157.84, 30468.89]])"
      ]
     },
     "execution_count": 57,
     "metadata": {},
     "output_type": "execute_result"
    }
   ],
   "source": [
    "XY=0\n",
    "X=0\n",
    "Y=0\n",
    "n = len(salary)\n",
    "for i in range(n):\n",
    "    XY = XY+salary[i]*scoring[i]\n",
    "    X = X+salary[i]\n",
    "    Y = Y+scoring[i]\n",
    "X_avg = X/n\n",
    "Y_avg = Y/n\n",
    "cov = XY/n - X_avg*Y_avg\n",
    "\n",
    "print(f'Ковариация смещенная:{cov}')\n",
    "np.cov(salary,scoring,ddof=0)"
   ]
  },
  {
   "cell_type": "markdown",
   "metadata": {},
   "source": [
    "__Для несмещенной оценки ковариации:__\n",
    "$$\\sigma_{xy} = \\dfrac{1}{n - 1} \\displaystyle\\sum_{i = 1}^n (x_i - \\overline{x}) \\cdot (y_i - \\overline{y})$$"
   ]
  },
  {
   "cell_type": "code",
   "execution_count": 67,
   "metadata": {},
   "outputs": [
    {
     "name": "stdout",
     "output_type": "stream",
     "text": [
      "Ковариация несмещенная:10175.377777777776\n"
     ]
    },
    {
     "data": {
      "text/plain": [
       "array([[ 3882.93333333, 10175.37777778],\n",
       "       [10175.37777778, 33854.32222222]])"
      ]
     },
     "execution_count": 67,
     "metadata": {},
     "output_type": "execute_result"
    }
   ],
   "source": [
    "summ = 0\n",
    "for i in range(n):\n",
    "    summ = summ + (salary[i]-X_avg)*(scoring[i]-Y_avg)\n",
    "cov = 1/(n-1)*summ\n",
    "\n",
    "print(f'Ковариация несмещенная:{cov}')\n",
    "np.cov(salary,scoring,ddof=1)"
   ]
  },
  {
   "cell_type": "markdown",
   "metadata": {},
   "source": [
    "__Коэффициент корреляции Пирсона:__\n",
    "$$r_{XY} = \\dfrac{\\sigma_{XY}}{\\sigma_X \\cdot \\sigma_Y}.$$\n",
    "\n",
    "Здесь $\\sigma_X$, $\\sigma_Y$ — среднее квадратическое отклонение.\n"
   ]
  },
  {
   "cell_type": "code",
   "execution_count": 59,
   "metadata": {},
   "outputs": [
    {
     "name": "stdout",
     "output_type": "stream",
     "text": [
      "std_x: 59.115480206118605\n",
      "std_y: 174.55340157098058\n"
     ]
    }
   ],
   "source": [
    "# средние квадратические отклонения\n",
    "summ_X = 0\n",
    "summ_Y = 0\n",
    "for i in range(n):\n",
    "    summ_X = summ_X + (salary[i]-X_avg)**2\n",
    "    summ_Y = summ_Y + (scoring[i]-Y_avg)**2\n",
    "std_x = (1/(n)*summ_X) ** 0.5\n",
    "std_y = (1/(n)*summ_Y) ** 0.5\n",
    "\n",
    "print(f'std_x: {std_x}')\n",
    "print(f'std_y: {std_y}')"
   ]
  },
  {
   "cell_type": "code",
   "execution_count": 60,
   "metadata": {},
   "outputs": [
    {
     "name": "stdout",
     "output_type": "stream",
     "text": [
      "corr_pirson=0.8874900920739158\n",
      "\n",
      "Numpy:\n",
      "[[1.         0.88749009]\n",
      " [0.88749009 1.        ]]\n"
     ]
    }
   ],
   "source": [
    "corr_pirson = cov/(std_x*std_y)\n",
    "print(f'corr_pirson={corr_pirson}\\n')\n",
    "print(f'Numpy:\\n{np.corrcoef(salary, scoring)}')"
   ]
  },
  {
   "cell_type": "markdown",
   "metadata": {},
   "source": [
    "__Коэффициент корреляции Кендалла__<br><br>\n",
    "Пусть $P$ — число всех согласованных комбинаций из двух пар, а $Q$ — число всех несогласованных комбинаций двух пар. \n",
    "\n",
    "Коэффициент корреляции Кендалла:\n",
    "$$\\tau = \\dfrac{P - Q}{P + Q}$$\n",
    "\n",
    "_Замечание_. Такое определение коэффициента Кендалла возможно только если выборки $X$ и $Y$ не имеют повторов.<br>\n",
    "Две пары $(x_i, y_i)$ и $(x_j, y_j)$ называются __согласованными__, если $x_i < x_j$ и $y_i < y_j$, или наоборот $x_i > x_j$ и $y_i > y_j$. В противном случае они называются __несогласованными__."
   ]
  },
  {
   "cell_type": "code",
   "execution_count": 61,
   "metadata": {},
   "outputs": [],
   "source": [
    "def is_concordant(pair1: tuple, pair2: tuple) -> bool:\n",
    "    \"\"\"Являются ли две пары согласованными.\n",
    "    \"\"\"\n",
    "    \n",
    "    return (pair1[0] - pair2[0]) * (pair1[1] - pair2[1]) > 0"
   ]
  },
  {
   "cell_type": "code",
   "execution_count": 62,
   "metadata": {},
   "outputs": [
    {
     "data": {
      "text/plain": [
       "[(35, 401),\n",
       " (45, 574),\n",
       " (190, 874),\n",
       " (200, 919),\n",
       " (40, 459),\n",
       " (70, 739),\n",
       " (54, 653),\n",
       " (150, 902),\n",
       " (120, 746),\n",
       " (110, 832)]"
      ]
     },
     "execution_count": 62,
     "metadata": {},
     "output_type": "execute_result"
    }
   ],
   "source": [
    "list(zip(salary, scoring))"
   ]
  },
  {
   "cell_type": "code",
   "execution_count": 63,
   "metadata": {},
   "outputs": [
    {
     "name": "stdout",
     "output_type": "stream",
     "text": [
      "(35, 401) (45, 574)\n",
      "(35, 401) (190, 874)\n",
      "(35, 401) (200, 919)\n",
      "(35, 401) (40, 459)\n",
      "(35, 401) (70, 739)\n",
      "(35, 401) (54, 653)\n",
      "(35, 401) (150, 902)\n",
      "(35, 401) (120, 746)\n",
      "(35, 401) (110, 832)\n",
      "(45, 574) (190, 874)\n",
      "(45, 574) (200, 919)\n",
      "(45, 574) (40, 459)\n",
      "(45, 574) (70, 739)\n",
      "(45, 574) (54, 653)\n",
      "(45, 574) (150, 902)\n",
      "(45, 574) (120, 746)\n",
      "(45, 574) (110, 832)\n",
      "(190, 874) (200, 919)\n",
      "(190, 874) (40, 459)\n",
      "(190, 874) (70, 739)\n",
      "(190, 874) (54, 653)\n",
      "(190, 874) (150, 902)\n",
      "(190, 874) (120, 746)\n",
      "(190, 874) (110, 832)\n",
      "(200, 919) (40, 459)\n",
      "(200, 919) (70, 739)\n",
      "(200, 919) (54, 653)\n",
      "(200, 919) (150, 902)\n",
      "(200, 919) (120, 746)\n",
      "(200, 919) (110, 832)\n",
      "(40, 459) (70, 739)\n",
      "(40, 459) (54, 653)\n",
      "(40, 459) (150, 902)\n",
      "(40, 459) (120, 746)\n",
      "(40, 459) (110, 832)\n",
      "(70, 739) (54, 653)\n",
      "(70, 739) (150, 902)\n",
      "(70, 739) (120, 746)\n",
      "(70, 739) (110, 832)\n",
      "(54, 653) (150, 902)\n",
      "(54, 653) (120, 746)\n",
      "(54, 653) (110, 832)\n",
      "(150, 902) (120, 746)\n",
      "(150, 902) (110, 832)\n",
      "(120, 746) (110, 832)\n"
     ]
    },
    {
     "data": {
      "text/plain": [
       "(43, 2)"
      ]
     },
     "execution_count": 63,
     "metadata": {},
     "output_type": "execute_result"
    }
   ],
   "source": [
    "P = 0\n",
    "Q = 0\n",
    "\n",
    "for pair1, pair2 in combinations(zip(salary, scoring), r=2):\n",
    "    if is_concordant(pair1, pair2):\n",
    "        P += 1\n",
    "    else:\n",
    "        Q += 1\n",
    "    print(pair1,pair2)\n",
    "P, Q"
   ]
  },
  {
   "cell_type": "code",
   "execution_count": 64,
   "metadata": {},
   "outputs": [
    {
     "name": "stdout",
     "output_type": "stream",
     "text": [
      "Коэф-т корреляции Кендалла: 0.9111111111111111\n",
      "\n",
      "Pandas: \n",
      "          x         y\n",
      "x  1.000000  0.911111\n",
      "y  0.911111  1.000000\n"
     ]
    }
   ],
   "source": [
    "corr_kendall = (P-Q)/(P+Q)\n",
    "print(f'Коэф-т корреляции Кендалла: {corr_kendall}\\n')\n",
    "print(f\"Pandas: \\n{pd.DataFrame({'x': salary, 'y': scoring}).corr(method='kendall')}\")\n"
   ]
  },
  {
   "cell_type": "markdown",
   "metadata": {},
   "source": [
    "### Задача 2\n",
    "\n",
    "Измерены значения IQ выборки студентов, обучающихся в местных технических вузах:\n",
    "\n",
    "131, 125, 115, 122, 131, 115, 107, 99, 125, 111\n",
    "\n",
    "Известно, что в генеральной совокупности IQ распределен нормально. Найдите доверительный интервал для математического ожидания с надежностью 0.99."
   ]
  },
  {
   "cell_type": "code",
   "execution_count": 65,
   "metadata": {},
   "outputs": [
    {
     "name": "stdout",
     "output_type": "stream",
     "text": [
      "10 118.1 10.54566788359614\n"
     ]
    },
    {
     "data": {
      "text/plain": [
       "2.2621571627409915"
      ]
     },
     "execution_count": 65,
     "metadata": {},
     "output_type": "execute_result"
    }
   ],
   "source": [
    "IQ = [131, 125, 115, 122, 131, 115, 107, 99, 125, 111]\n",
    "n = len(IQ)\n",
    "\n",
    "#найдем среднее по выборке и среднее квадратическое отклонение\n",
    "mean = sum(IQ)/n\n",
    "summ= 0\n",
    "for i in range(0,n):\n",
    "    summ = summ + (IQ[i]-mean)**2\n",
    "std_iq = (1/(n-1)*summ)**0.5\n",
    "print(n, mean, std_iq)\n",
    "\n",
    "# Поскольку дисперсия нам неизвестна,будем использовать  t-распределение и t-статистику Стьюдента:\n",
    "p=0.95\n",
    "alpha = 1 - p\n",
    "t = stats.t.ppf(1 - alpha / 2, df=n - 1)\n",
    "t"
   ]
  },
  {
   "cell_type": "markdown",
   "metadata": {},
   "source": [
    "__Доверительный интервал для параметра $a$:__\n",
    "$$\n",
    "P \\left(\n",
    "    \\overline{X} - t_{1 - \\alpha / 2} \\cdot \\dfrac{\\sigma}{\\sqrt{n}}\n",
    "    \\leq a \\leq \n",
    "    \\overline{X} + t_{1 - \\alpha / 2} \\cdot \\dfrac{\\sigma}{\\sqrt{n}}\n",
    "\\right) = p.\n",
    "$$"
   ]
  },
  {
   "cell_type": "code",
   "execution_count": 66,
   "metadata": {},
   "outputs": [
    {
     "data": {
      "text/plain": [
       "(110.55608365158724, 125.64391634841274)"
      ]
     },
     "execution_count": 66,
     "metadata": {},
     "output_type": "execute_result"
    }
   ],
   "source": [
    "# Доверительный интервал:\n",
    "(mean - t * std_iq / np.sqrt(n), mean + t * std_iq / np.sqrt(n))"
   ]
  },
  {
   "cell_type": "markdown",
   "metadata": {},
   "source": [
    "### Задача 3\n",
    "\n",
    "Выберите тему для проектной работы по курсу Теории вероятностей и математической статистики и напишите ее в комментарии к Практическому заданию."
   ]
  },
  {
   "cell_type": "markdown",
   "metadata": {},
   "source": [
    "Анализ средней продолжительности фильмов в зависимости от жанра\n",
    "\n",
    "Какие методы?\n",
    "* Статистические характеристики: выборочные среднее и дисперсия, медиана, квартили (занятие 3)\n",
    "* Визуализация: гистограммы, боксплоты (занятие 3)\n",
    "* Проверка статистических гипотез о математическом ожидании и дисперсии, P-значения (занятие 5)\n",
    "* Корреляционный анализ, проверка на значимость корреляции (занятие 6)\n",
    "* Проверка на нормальность (занятие 6)\n",
    "* Дисперсионный анализ (занятия 7 и 8). Позволяет анализировать влияние категориальной переменной на количественную. Пример: влияет ли город проживания на зарплату?\n",
    "* Линейная регрессия, регрессионный анализ (занятие 7). Показывают характер зависимости количественной переменной от одной или нескольких других переменных. Также можно оценить вклад каждой переменной в эту зависимость. Пример: модель зависимости цены на квартиру от её площади и расстояния от центра.\n",
    "* Факторный анализ (занятие 8). Позволяет проанализировать уровень линейной зависимости в данных и, в случае её наличия, преобразовать данные и избавиться от лишней информации. \n",
    "* Логистическая регрессия (занятие 8). Модель зависимости бинарной (т.е. имеющей лишь 2 значения) переменной от одной или нескольких количественных переменных. \n"
   ]
  }
 ],
 "metadata": {
  "kernelspec": {
   "display_name": "Python 3",
   "language": "python",
   "name": "python3"
  },
  "language_info": {
   "codemirror_mode": {
    "name": "ipython",
    "version": 3
   },
   "file_extension": ".py",
   "mimetype": "text/x-python",
   "name": "python",
   "nbconvert_exporter": "python",
   "pygments_lexer": "ipython3",
   "version": "3.7.6"
  }
 },
 "nbformat": 4,
 "nbformat_minor": 4
}
