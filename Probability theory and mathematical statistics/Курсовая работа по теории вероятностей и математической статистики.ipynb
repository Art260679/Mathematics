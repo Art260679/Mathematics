{
 "cells": [
  {
   "cell_type": "markdown",
   "metadata": {},
   "source": [
    "# заглушка"
   ]
  },
  {
   "cell_type": "markdown",
   "metadata": {},
   "source": [
    "### Курсовая работа по теории вероятностей и математической статистике."
   ]
  },
  {
   "cell_type": "code",
   "execution_count": 1,
   "metadata": {},
   "outputs": [],
   "source": [
    "import pandas as pd"
   ]
  },
  {
   "cell_type": "code",
   "execution_count": 47,
   "metadata": {},
   "outputs": [
    {
     "data": {
      "text/plain": [
       "array(['@Brent Crude Oil', 'Polymetal', 'Yandex', 'АбрауДюрсо',\n",
       "       'АВТОВАЗ ао', 'Азот ао', 'АЛРОСА ао', 'Аэрофлот', 'Балтика ао',\n",
       "       'БанкМосквы', 'ВЕРОФАРМ', 'ВТБ ао', 'ГАЗ ао', 'Газпрнефть',\n",
       "       'ГАЗПРОМ ао', 'ДетскийМир', 'ДИКСИ ао', 'КАМАЗ', 'ЛУКОЙЛ',\n",
       "       'М.видео', 'Магнит ао', 'Мечел ао', 'Новатэк ао', 'Роснефть',\n",
       "       'Россети ао', 'Ростел -ао', 'Сбербанк', 'Сургнфгз', 'Фармстанд',\n",
       "       'Электрцинк', 'Gold', 'Palladium', 'Platinum', 'Silver', 'USD',\n",
       "       'EUR', 'CNY', 'JPY'], dtype=object)"
      ]
     },
     "execution_count": 47,
     "metadata": {},
     "output_type": "execute_result"
    }
   ],
   "source": [
    "df = pd.read_csv('mfdexport_1day_11012010_21082020.csv', delimiter=';')\n",
    "\n",
    "df['ticket'].unique()"
   ]
  },
  {
   "cell_type": "code",
   "execution_count": 49,
   "metadata": {},
   "outputs": [],
   "source": [
    "df_Brent = df.copy()\n",
    "df_Brent = df_Brent.loc[df.ticket == '@Brent Crude Oil']\n",
    "df_Polymetal = df.copy()\n",
    "df_Polymetal = df_Polymetal.loc[df.ticket == 'df_Polymetal']"
   ]
  }
 ],
 "metadata": {
  "kernelspec": {
   "display_name": "Python 3",
   "language": "python",
   "name": "python3"
  },
  "language_info": {
   "codemirror_mode": {
    "name": "ipython",
    "version": 3
   },
   "file_extension": ".py",
   "mimetype": "text/x-python",
   "name": "python",
   "nbconvert_exporter": "python",
   "pygments_lexer": "ipython3",
   "version": "3.7.6"
  }
 },
 "nbformat": 4,
 "nbformat_minor": 4
}
