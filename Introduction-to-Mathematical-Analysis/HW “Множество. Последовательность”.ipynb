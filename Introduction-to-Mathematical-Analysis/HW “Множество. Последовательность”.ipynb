{
 "cells": [
  {
   "cell_type": "markdown",
   "metadata": {},
   "source": [
    "## Тема “Введение в математических анализ”"
   ]
  },
  {
   "cell_type": "markdown",
   "metadata": {},
   "source": [
    "### 1. Как относятся друг к другу множество и последовательность? (в ответе использовать слова типа: часть, целое, общее, частное, родитель, дочерний субъект и т.д.)\n",
    "\n",
    "Множество относится к последовательности как родитель к дочернему субъекту или можно сказать, что последовательность является частью некоторого множества объектов."
   ]
  },
  {
   "cell_type": "markdown",
   "metadata": {},
   "source": [
    "### 2. Прочитать высказывания математической логики, построить их отрицания и установить истинность."
   ]
  },
  {
   "cell_type": "markdown",
   "metadata": {},
   "source": [
    "$\\forall y \\in [0;1]:sgn(y)=1$  \n",
    "$\\exists x \\in [0;1]:sgn(x)\\neq 1$"
   ]
  },
  {
   "cell_type": "markdown",
   "metadata": {},
   "source": [
    "Для любого y, принадлещего интервалу от 0 до 1 включительно, кусочно-постоянная функция действительного аргумента принимает значение 1.  \n",
    "Высказывание ложно."
   ]
  },
  {
   "cell_type": "markdown",
   "metadata": {},
   "source": [
    "$\\forall n \\in \\mathbb {N} > 2 : \\exists x, y, z \\in \\mathbb {N}: x^n = y^n + z^n$  \n",
    "$\\exists n \\in \\mathbb {N} > 2 : \\forall x, y, z \\in \\mathbb {N}: x^n \\neq y^n + z^n$"
   ]
  },
  {
   "cell_type": "markdown",
   "metadata": {},
   "source": [
    "Для любого n больше 2, принадлежащего множеству натуральных чисел, существуют x, y, z, принадлежащие множеству натуральных чисел, для которых выполняется раветство $x^n = y^n + z^n$.  \n",
    "Высказывание истинно."
   ]
  },
  {
   "cell_type": "markdown",
   "metadata": {},
   "source": [
    "$\\forall x \\in \\mathbb {R} \\exists X \\in \\mathbb {R} :X >x$  \n",
    "$\\exists x \\in \\mathbb {R} \\forall X \\in \\mathbb {R} :X < x$"
   ]
  },
  {
   "cell_type": "markdown",
   "metadata": {},
   "source": [
    "Для любого x, принадлежащего множеству действительных чисел, существует последовательность X, принадлежащая множеству действительных чисел, для которой выполняется неравенство X > x.\n",
    "Высказывание ложно."
   ]
  },
  {
   "cell_type": "markdown",
   "metadata": {},
   "source": [
    "$\\forall x \\in \\mathbb {C} \\nexists y \\in \\mathbb {C} : x > y \\parallel x < y$  \n",
    "$\\exists x,y \\in \\mathbb {C} : x < y \\& x > y$ "
   ]
  },
  {
   "cell_type": "markdown",
   "metadata": {},
   "source": [
    "Для любого x, принадлежащего множеству комплексных чисел, не существует y, принадлежащего множеству комплексных чисел, для которого выполняется неравенство x > y или x < y.\n",
    "Высказывание истинно."
   ]
  },
  {
   "cell_type": "markdown",
   "metadata": {},
   "source": [
    "$\\forall y \\in [0; \\frac {\\pi} {2}] \\exists \\epsilon> 0: \\sin{y} < \\sin{(y + \\epsilon)}$  \n",
    "$\\exists y \\in [0; \\frac {\\pi} {2}] \\forall \\epsilon > 0: \\sin{y} > \\sin{(y + \\epsilon)}$"
   ]
  },
  {
   "cell_type": "markdown",
   "metadata": {},
   "source": [
    "Для любого y, принадлежащего интервалу от 0 до $\\frac{\\pi}{2}$ включительно, существует $\\epsilon$ больше 0, для которого выполняется неравенство $\\sin{y} < \\sin{(y + \\epsilon)}$.  \n",
    "Высказывание ложно."
   ]
  },
  {
   "cell_type": "markdown",
   "metadata": {},
   "source": [
    "$\\forall y \\in [0; \\pi) \\exists \\epsilon> 0: \\cos{y} > \\cos{(y + \\epsilon)}$  \n",
    "$\\exists y \\in [0; \\pi) \\forall \\epsilon > 0: \\cos{y} < \\cos{(y + \\epsilon)}$"
   ]
  },
  {
   "cell_type": "markdown",
   "metadata": {},
   "source": [
    "Для любого y, принадлежащего интервалу от 0 включительно до $\\pi $ невключительно, существует $\\epsilon$ больше 0, для которого выполняется неравенство $\\cos{y} < \\cos{(y + \\epsilon)}$.  \n",
    "Высказывание истино."
   ]
  },
  {
   "cell_type": "markdown",
   "metadata": {},
   "source": [
    "$\\exists x: x \\notin \\{\\mathbb{N, Z, Q, R, C}\\}$  \n",
    "$\\forall x: x \\in \\{\\mathbb{N, Z, Q, R, C}\\}$"
   ]
  },
  {
   "cell_type": "markdown",
   "metadata": {},
   "source": [
    "Существует x, который не является элементом множества натуральных, целых, рациональных, действительных и комплексных чисел.  \n",
    "Высказывание ложно."
   ]
  },
  {
   "cell_type": "markdown",
   "metadata": {},
   "source": [
    "## Тема “Множество”"
   ]
  },
  {
   "cell_type": "markdown",
   "metadata": {},
   "source": [
    "### 1. Даны три множества a,b и с. Необходимо выполнить все изученные виды бинарных операций над всеми комбинациями множеств."
   ]
  },
  {
   "cell_type": "markdown",
   "metadata": {},
   "source": [
    "$A = \\{1, 2, 3, 4\\}$  \n",
    "$B = \\{4, 5, 1, 9\\}$  \n",
    "$C = \\{a, 2 , 1, 7\\}$  "
   ]
  },
  {
   "cell_type": "markdown",
   "metadata": {},
   "source": [
    "+ Пересечение  \n",
    "$A \\cap B \\cap C = \\{1\\}$"
   ]
  },
  {
   "cell_type": "markdown",
   "metadata": {},
   "source": [
    "+ Объединение  \n",
    "$A \\cup B \\cup C = \\{1, 2, 3, 4, 5, 7, 9, a\\}$"
   ]
  },
  {
   "cell_type": "markdown",
   "metadata": {},
   "source": [
    "+ Разность  \n",
    "$C \\setminus B \\setminus A = \\{7, a\\}$"
   ]
  },
  {
   "cell_type": "markdown",
   "metadata": {},
   "source": [
    "+ Симметричной разность  \n",
    "$A \\Delta B \\Delta C = \\{3, 5, 7, 9, a\\}$"
   ]
  },
  {
   "cell_type": "markdown",
   "metadata": {},
   "source": [
    "+ Декартово произведение  \n",
    "$A \\times B \\times C = \\{(1, 1, 1), (1, 1, 2), (1, 1, a), (1, 1, 7), (1, 4, 1), (1, 4, 2), (1, 4, a), (1, 4, 7), (1, 5, 1), (1, 5, 2), (1, 5, a), (1, 5, 7), (1, 9, 1), (1, 9, 2), (1, 9, a), (1, 9, 7), (2, 1, 1), (2, 1, 2), (2, 1, a), (2, 1, 7), (2, 4, 1), (2, 4, 2), (2, 4, a), (2, 4, 7), (2, 5, 1), (2, 5, 2), (2, 5, a), (2, 5, 7), (2, 9, 1), (2, 9, 2), (2, 9, a), (2, 9, 7), (3, 1, 1), (3, 1, 2), (3, 1, a), (3, 1, 7), (3, 4, 1), (3, 4, 2), (3, 4, a), (3, 4, 7), (3, 5, 1), (3, 5, 2), (3, 5, a), (3, 5, 7), (3, 9, 1), (3, 9, 2), (3, 9, a), (3, 9, 7), (4, 1, 1), (4, 1, 2), (4, 1, a), (4, 1, 7), (4, 4, 1), (4, 4, 2), (4, 4, a), (4, 4, 7), (4, 5, 1), (4, 5, 2), (4, 5, a), (4, 5, 7), (4, 9, 1), (4, 9, 2), (4, 9, a), (4, 9, 7)\\dots \\}$"
   ]
  },
  {
   "cell_type": "code",
   "execution_count": 1,
   "metadata": {},
   "outputs": [],
   "source": [
    "𝐴={1,2,3,4}\n",
    "𝐵={4,5,1,9}\n",
    "𝐶={'a',2,1,7}"
   ]
  },
  {
   "cell_type": "code",
   "execution_count": 2,
   "metadata": {},
   "outputs": [
    {
     "data": {
      "text/plain": [
       "{1}"
      ]
     },
     "execution_count": 2,
     "metadata": {},
     "output_type": "execute_result"
    }
   ],
   "source": [
    "A & B & C"
   ]
  },
  {
   "cell_type": "code",
   "execution_count": 3,
   "metadata": {},
   "outputs": [
    {
     "data": {
      "text/plain": [
       "{1, 2, 3, 4, 5, 7, 9, 'a'}"
      ]
     },
     "execution_count": 3,
     "metadata": {},
     "output_type": "execute_result"
    }
   ],
   "source": [
    "A | B | C"
   ]
  },
  {
   "cell_type": "code",
   "execution_count": 4,
   "metadata": {},
   "outputs": [
    {
     "data": {
      "text/plain": [
       "{7, 'a'}"
      ]
     },
     "execution_count": 4,
     "metadata": {},
     "output_type": "execute_result"
    }
   ],
   "source": [
    "C - B - A"
   ]
  },
  {
   "cell_type": "code",
   "execution_count": 5,
   "metadata": {},
   "outputs": [
    {
     "data": {
      "text/plain": [
       "{3, 5, 7, 9, 'a'}"
      ]
     },
     "execution_count": 5,
     "metadata": {},
     "output_type": "execute_result"
    }
   ],
   "source": [
    "(A - B - C) | (B - C - A) | (C - A - B)"
   ]
  },
  {
   "cell_type": "code",
   "execution_count": 6,
   "metadata": {},
   "outputs": [
    {
     "name": "stdout",
     "output_type": "stream",
     "text": [
      "[(1, 1, 'a'), (1, 1, 2), (1, 1, 1), (1, 1, 7), (1, 4, 'a'), (1, 4, 2), (1, 4, 1), (1, 4, 7), (1, 5, 'a'), (1, 5, 2), (1, 5, 1), (1, 5, 7), (1, 9, 'a'), (1, 9, 2), (1, 9, 1), (1, 9, 7), (2, 1, 'a'), (2, 1, 2), (2, 1, 1), (2, 1, 7), (2, 4, 'a'), (2, 4, 2), (2, 4, 1), (2, 4, 7), (2, 5, 'a'), (2, 5, 2), (2, 5, 1), (2, 5, 7), (2, 9, 'a'), (2, 9, 2), (2, 9, 1), (2, 9, 7), (3, 1, 'a'), (3, 1, 2), (3, 1, 1), (3, 1, 7), (3, 4, 'a'), (3, 4, 2), (3, 4, 1), (3, 4, 7), (3, 5, 'a'), (3, 5, 2), (3, 5, 1), (3, 5, 7), (3, 9, 'a'), (3, 9, 2), (3, 9, 1), (3, 9, 7), (4, 1, 'a'), (4, 1, 2), (4, 1, 1), (4, 1, 7), (4, 4, 'a'), (4, 4, 2), (4, 4, 1), (4, 4, 7), (4, 5, 'a'), (4, 5, 2), (4, 5, 1), (4, 5, 7), (4, 9, 'a'), (4, 9, 2), (4, 9, 1), (4, 9, 7)]\n"
     ]
    }
   ],
   "source": [
    "res = [(a, b, c) for a in A for b in B for c in C]\n",
    "print(res)"
   ]
  },
  {
   "cell_type": "markdown",
   "metadata": {},
   "source": [
    "## Тема 3 “Последовательность”"
   ]
  },
  {
   "cell_type": "markdown",
   "metadata": {},
   "source": [
    "### 1. Даны 4 последовательности. Необходимо:  \n",
    "#### a. исследовать их на монотонность;  \n",
    "#### b. исследовать на ограниченность;  \n",
    "#### c. найти пятый по счету член."
   ]
  },
  {
   "cell_type": "markdown",
   "metadata": {},
   "source": [
    "$\\{a_n\\}^\\infty_{n=1}=2^n -n$  \n",
    "\n",
    "a. монотонная последовательность\n",
    "\n",
    "b. возрастающая\n",
    "\n",
    "c. $27$"
   ]
  },
  {
   "cell_type": "markdown",
   "metadata": {},
   "source": [
    "$\\{b_n\\}^\\infty_{n=2} = \\frac {1} {1 -n}$  \n",
    "\n",
    "a. монотонная последовательность\n",
    "\n",
    "b. возрастающая\n",
    "\n",
    "c. $-\\frac{1}{5}$"
   ]
  },
  {
   "cell_type": "markdown",
   "metadata": {},
   "source": [
    "$\\{c_n\\}^\\infty_{n=1} = -1^n + \\sqrt{2n}$  \n",
    "\n",
    "a. монотонная последовательность\n",
    "\n",
    "b. возрастающая\n",
    "\n",
    "c. $\\sqrt{10} - 1 \\$"
   ]
  },
  {
   "cell_type": "markdown",
   "metadata": {},
   "source": [
    "$\\{d_n\\}^\\infty_{n=1}= (-1)^{2n} + \\frac{1}{n^2}$  \n",
    "\n",
    "a. монотонная последовательность\n",
    "\n",
    "b. нестрого убывает\n",
    "\n",
    "c. $1\\frac{1}{25}$"
   ]
  },
  {
   "cell_type": "markdown",
   "metadata": {},
   "source": [
    "### 2. Найти 12-й член заданной неявно последовательности\n",
    "\n",
    "$a_1 =128, a_{n+1} - a_n =6$"
   ]
  },
  {
   "cell_type": "markdown",
   "metadata": {},
   "source": [
    "$a_{12} = 128 +6\\times 11 = 194$"
   ]
  }
 ],
 "metadata": {
  "kernelspec": {
   "display_name": "Python 3",
   "language": "python",
   "name": "python3"
  },
  "language_info": {
   "codemirror_mode": {
    "name": "ipython",
    "version": 3
   },
   "file_extension": ".py",
   "mimetype": "text/x-python",
   "name": "python",
   "nbconvert_exporter": "python",
   "pygments_lexer": "ipython3",
   "version": "3.7.4"
  }
 },
 "nbformat": 4,
 "nbformat_minor": 4
}
