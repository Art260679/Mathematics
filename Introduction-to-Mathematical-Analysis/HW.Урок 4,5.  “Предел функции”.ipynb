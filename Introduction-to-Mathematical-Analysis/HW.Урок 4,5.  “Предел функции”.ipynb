{
 "cells": [
  {
   "cell_type": "markdown",
   "metadata": {},
   "source": [
    "# Тема “Предел функции”"
   ]
  },
  {
   "cell_type": "markdown",
   "metadata": {},
   "source": [
    "### 1. Предложить пример функции, не имеющей предела в нуле и в бесконечностях."
   ]
  },
  {
   "cell_type": "markdown",
   "metadata": {},
   "source": [
    "$$f(x) = \\sin{\\left(\\frac{1}{x}\\right)}$$"
   ]
  },
  {
   "cell_type": "markdown",
   "metadata": {},
   "source": [
    "### 2. Привести пример функции, не имеющей предела в точке, но определенной в ней."
   ]
  },
  {
   "cell_type": "markdown",
   "metadata": {},
   "source": [
    "$$f(x) = sign(x)$$"
   ]
  },
  {
   "cell_type": "markdown",
   "metadata": {},
   "source": [
    "### 3. Исследовать функцию $f(x) = x^3 - x^2$ по плану:  "
   ]
  },
  {
   "cell_type": "markdown",
   "metadata": {},
   "source": [
    "a. Область задания и область значений.  \n",
    "b. Нули функции и их кратность.  \n",
    "c. Отрезки знакопостоянства.  \n",
    "d. Интервалы монотонности.  \n",
    "e. Четность функции.  \n",
    "f. Ограниченность.  \n",
    "g. Периодичность. "
   ]
  },
  {
   "cell_type": "markdown",
   "metadata": {},
   "source": [
    "a. $$(-\\infty; +\\infty)$$\n",
    "b. $$0; 1$$\n",
    "c. $$(-\\infty; 0): f(-2) = -12 < 0$$\n",
    "$$(0; 1): f(0.2) = -0.032 < 0$$\n",
    "$$(1; +\\infty): f(2) = 4 > 0$$\n",
    "d. $$(-\\infty; 0), (0; \\frac{2}{3}), (\\frac{2}{3}; +\\infty)$$\n",
    "$$(-\\infty; 0) - возрастает$$\n",
    "$$(0; \\frac{2}{3}) - убывает$$\n",
    "$$(\\frac{2}{3}; +\\infty) - возрастает$$\n",
    "e. ни чётная, ни нечётная\n",
    "\n",
    "f. не ограничена\n",
    "\n",
    "g. не является периодической"
   ]
  },
  {
   "cell_type": "markdown",
   "metadata": {},
   "source": [
    "4. Найти предел:  \n",
    "a. $$\\lim\\limits_{x \\to 0}\\frac{3x^3-2x^2}{4x^2} = \\left({\\color{red}{\\frac{0}{0}}}\\right) = $$\n",
    "\n",
    "$$\\lim\\limits_{x \\to 0}\\frac{3x^3-2x^2}{4x^2} = \\frac{3x - 2}{4} = $$\n",
    "\n",
    "$$\\lim\\limits_{x \\to 0}\\frac{3x - 2}{4} = \\frac{3 \\bullet 0 - 2}{4} =- \\frac{1}{2}$$"
   ]
  },
  {
   "cell_type": "markdown",
   "metadata": {},
   "source": [
    "# Тема “Теоремы о пределах”"
   ]
  },
  {
   "cell_type": "markdown",
   "metadata": {},
   "source": [
    "1. Найти предел:  \n",
    "a. $$\\lim\\limits_{x \\to 0}\\frac{\\sin{(2x)}}{4x} = \\left({\\color{red}{\\frac{0}{0}}}\\right) = \\lim\\limits_{x \\to 0}\\frac{\\sin{(2x)}}{2 \\bullet 2x} = \\frac{1}{2}$$  "
   ]
  },
  {
   "cell_type": "markdown",
   "metadata": {},
   "source": [
    "b. $$\\lim\\limits_{x \\to 0}\\frac{x}{\\sin{x}} = \\left({\\color{red}{\\frac{0}{0}}}\\right) = 1$$  "
   ]
  },
  {
   "cell_type": "markdown",
   "metadata": {},
   "source": [
    "c. $$\\lim\\limits_{x \\to 0}\\frac{x}{\\arcsin{x}} = \\left({\\color{red}{\\frac{0}{0}}}\\right) = 1$$  "
   ]
  },
  {
   "cell_type": "markdown",
   "metadata": {},
   "source": [
    "d. $$\\lim\\limits_{x \\to \\infty}\\left(\\frac{4x+3}{4x-3} \\right)^{6x} = ({\\color{red}{\\frac{\\infty}{\\infty}}}) = $$\n",
    "\n",
    "$$\\lim\\limits_{x \\to \\infty}\\left(1 + \\frac{6}{4x - 3}\\right) ^{6x} = ({\\color{red}{1^\\infty}}) = $$  \n",
    "\n",
    "$$\\lim\\limits_{x \\to \\infty}\\left(1 + \\frac{6}{4x - 3}\\right) ^{\\frac{4x - 3}{6} \\bullet \\frac{6}{4x - 3} \\bullet 6x} = $$\n",
    "\n",
    "$$e^{\\lim\\limits_{x \\to \\infty} \\frac{36x}{4x -3}} = e^{\\frac{36}{4}} = e^9$$"
   ]
  }
 ],
 "metadata": {
  "kernelspec": {
   "display_name": "Python 3",
   "language": "python",
   "name": "python3"
  },
  "language_info": {
   "codemirror_mode": {
    "name": "ipython",
    "version": 3
   },
   "file_extension": ".py",
   "mimetype": "text/x-python",
   "name": "python",
   "nbconvert_exporter": "python",
   "pygments_lexer": "ipython3",
   "version": "3.7.4"
  }
 },
 "nbformat": 4,
 "nbformat_minor": 4
}
